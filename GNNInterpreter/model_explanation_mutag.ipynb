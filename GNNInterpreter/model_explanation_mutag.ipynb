{
 "cells": [
  {
   "cell_type": "code",
   "execution_count": 1,
   "id": "1a91b813",
   "metadata": {
    "collapsed": false,
    "is_executing": true,
    "pycharm": {
     "name": "#%%\n"
    }
   },
   "outputs": [],
   "source": [
    "%load_ext autoreload\n",
    "%autoreload 2"
   ]
  },
  {
   "cell_type": "code",
   "execution_count": 2,
   "id": "c7f4188d",
   "metadata": {
    "ExecuteTime": {
     "end_time": "2023-11-04T07:41:01.560395Z",
     "start_time": "2023-11-04T07:40:57.794259Z"
    },
    "collapsed": false,
    "pycharm": {
     "name": "#%%\n"
    }
   },
   "outputs": [
    {
     "name": "stderr",
     "output_type": "stream",
     "text": [
      "/home/du0/20CS30037/miniconda3/envs/gnn_inter/lib/python3.11/site-packages/tqdm/auto.py:21: TqdmWarning: IProgress not found. Please update jupyter and ipywidgets. See https://ipywidgets.readthedocs.io/en/stable/user_install.html\n",
      "  from .autonotebook import tqdm as notebook_tqdm\n"
     ]
    }
   ],
   "source": [
    "from gnninterpreter import *"
   ]
  },
  {
   "cell_type": "code",
   "execution_count": 3,
   "id": "2ab76fb3",
   "metadata": {
    "ExecuteTime": {
     "end_time": "2023-11-04T07:41:01.566322Z",
     "start_time": "2023-11-04T07:41:01.560896Z"
    },
    "collapsed": false,
    "pycharm": {
     "name": "#%%\n"
    }
   },
   "outputs": [],
   "source": [
    "import torch"
   ]
  },
  {
   "cell_type": "markdown",
   "id": "395a07f1",
   "metadata": {},
   "source": [
    "# Mutag"
   ]
  },
  {
   "cell_type": "code",
   "execution_count": 4,
   "id": "52747602",
   "metadata": {
    "ExecuteTime": {
     "end_time": "2023-11-04T07:41:01.596590Z",
     "start_time": "2023-11-04T07:41:01.563833Z"
    },
    "collapsed": false,
    "pycharm": {
     "name": "#%%\n"
    }
   },
   "outputs": [],
   "source": [
    "dataset = MUTAGDataset(seed=100)"
   ]
  },
  {
   "cell_type": "code",
   "execution_count": 5,
   "id": "4c1617a4-666d-43de-8f0e-c5301b74375f",
   "metadata": {
    "ExecuteTime": {
     "end_time": "2023-11-04T07:41:03.190997Z",
     "start_time": "2023-11-04T07:41:03.158675Z"
    },
    "collapsed": false,
    "pycharm": {
     "name": "#%%\n"
    }
   },
   "outputs": [],
   "source": [
    "model = GCNClassifier(node_features=len(dataset.NODE_CLS),\n",
    "                      num_classes=len(dataset.GRAPH_CLS),\n",
    "                      hidden_channels=64,\n",
    "                      num_layers=3)"
   ]
  },
  {
   "cell_type": "code",
   "execution_count": 6,
   "id": "3a8139b5-424e-484e-a567-b325f015ccaf",
   "metadata": {
    "ExecuteTime": {
     "end_time": "2023-11-04T07:41:25.394270Z",
     "start_time": "2023-11-04T07:41:25.380650Z"
    }
   },
   "outputs": [
    {
     "data": {
      "text/plain": [
       "<All keys matched successfully>"
      ]
     },
     "execution_count": 6,
     "metadata": {},
     "output_type": "execute_result"
    }
   ],
   "source": [
    "model.load_state_dict(torch.load('ckpts/mutag.pt'))"
   ]
  },
  {
   "cell_type": "code",
   "execution_count": 7,
   "id": "6645ce41-8d77-4945-a474-561843ee8109",
   "metadata": {
    "ExecuteTime": {
     "end_time": "2023-11-04T07:41:39.461255Z",
     "start_time": "2023-11-04T07:41:39.426371Z"
    }
   },
   "outputs": [
    {
     "name": "stderr",
     "output_type": "stream",
     "text": [
      "/home/du0/20CS30037/miniconda3/envs/gnn_inter/lib/python3.11/site-packages/torch_geometric/deprecation.py:22: UserWarning: 'data.DataLoader' is deprecated, use 'loader.DataLoader' instead\n",
      "  warnings.warn(out)\n"
     ]
    },
    {
     "name": "stdout",
     "output_type": "stream",
     "text": [
      "class idx: 0, class: nonmutagen, f1: 0.8799999952316284\n",
      "class idx: 1, class: mutagen, f1: 0.9402390718460083\n"
     ]
    },
    {
     "data": {
      "text/plain": [
       "{'nonmutagen': 0.8799999952316284, 'mutagen': 0.9402390718460083}"
      ]
     },
     "execution_count": 7,
     "metadata": {},
     "output_type": "execute_result"
    }
   ],
   "source": [
    "dataset.evaluate_model(model)"
   ]
  },
  {
   "cell_type": "code",
   "execution_count": 8,
   "id": "feee1f5b-d7e1-440c-bb6a-7fe4daf96956",
   "metadata": {
    "ExecuteTime": {
     "end_time": "2023-11-04T07:42:23.262034Z",
     "start_time": "2023-11-04T07:42:23.238508Z"
    }
   },
   "outputs": [],
   "source": [
    "mean_embeds = dataset.mean_embeddings(model)"
   ]
  },
  {
   "cell_type": "code",
   "execution_count": 9,
   "id": "2c966c81e3166b9e",
   "metadata": {
    "ExecuteTime": {
     "end_time": "2023-11-04T07:43:57.399249Z",
     "start_time": "2023-11-04T07:43:57.389704Z"
    },
    "collapsed": false
   },
   "outputs": [],
   "source": [
    "trainer = {}\n",
    "sampler = {}"
   ]
  },
  {
   "cell_type": "markdown",
   "id": "383c9c7a23eb249f",
   "metadata": {
    "collapsed": false
   },
   "source": [
    "# Mutagen"
   ]
  },
  {
   "cell_type": "code",
   "execution_count": 10,
   "id": "91b8c45bb38b58e",
   "metadata": {
    "ExecuteTime": {
     "end_time": "2023-10-30T09:57:18.790811Z",
     "start_time": "2023-10-30T09:57:18.761402Z"
    },
    "collapsed": false
   },
   "outputs": [],
   "source": [
    "cls_idx = 1\n",
    "trainer[cls_idx] = Trainer(\n",
    "    sampler=(s := GraphSampler(\n",
    "        max_nodes=20,\n",
    "        num_node_cls=len(dataset.NODE_CLS),\n",
    "        num_edge_cls=len(dataset.EDGE_CLS),\n",
    "        temperature=0.15,\n",
    "        learn_node_feat=True,\n",
    "        learn_edge_feat=True,\n",
    "    )),\n",
    "    discriminator=model,\n",
    "    criterion=WeightedCriterion([\n",
    "        dict(key=\"logits\", criterion=ClassScoreCriterion(class_idx=cls_idx, mode='maximize'), weight=1),\n",
    "        dict(key=\"embeds\", criterion=EmbeddingCriterion(target_embedding=mean_embeds[cls_idx]), weight=10),\n",
    "        dict(key=\"logits\", criterion=MeanPenalty(), weight=0),\n",
    "        dict(key=\"omega\", criterion=NormPenalty(order=1), weight=1),\n",
    "        dict(key=\"omega\", criterion=NormPenalty(order=2), weight=1),\n",
    "        dict(key=\"xi\", criterion=NormPenalty(order=1), weight=0),\n",
    "        dict(key=\"xi\", criterion=NormPenalty(order=2), weight=0),\n",
    "        # dict(key=\"eta\", criterion=NormPenalty(order=1), weight=0),\n",
    "        # dict(key=\"eta\", criterion=NormPenalty(order=2), weight=0),\n",
    "        dict(key=\"theta_pairs\", criterion=KLDivergencePenalty(binary=True), weight=0),\n",
    "    ]),\n",
    "    optimizer=(o := torch.optim.SGD(s.parameters(), lr=1)),\n",
    "    scheduler=torch.optim.lr_scheduler.ExponentialLR(o, gamma=1),\n",
    "    dataset=dataset,\n",
    "    budget_penalty=BudgetPenalty(budget=30, order=1, beta=1),\n",
    "    target_probs={cls_idx: (0.9, 1)},\n",
    "    k_samples=16\n",
    ")"
   ]
  },
  {
   "cell_type": "code",
   "execution_count": 11,
   "id": "4c0bd9796d611c52",
   "metadata": {
    "ExecuteTime": {
     "end_time": "2023-10-30T09:57:20.485474Z",
     "start_time": "2023-10-30T09:57:20.053335Z"
    },
    "collapsed": false
   },
   "outputs": [
    {
     "name": "stderr",
     "output_type": "stream",
     "text": [
      "  0%|          | 0/2000 [00:00<?, ?it/s]"
     ]
    },
    {
     "name": "stdout",
     "output_type": "stream",
     "text": [
      "\n",
      "Prediction of the sample:  <generator object Trainer.train.<locals>.<genexpr> at 0x7fe4da6bdd50>\n"
     ]
    },
    {
     "name": "stderr",
     "output_type": "stream",
     "text": [
      "  0%|          | 1/2000 [00:02<1:36:09,  2.89s/it, size=90.8, bpw=1.1, nonmutagen=-2.31, mutagen=2.29]"
     ]
    },
    {
     "name": "stdout",
     "output_type": "stream",
     "text": [
      "iteration=0, loss=364.30, size=90.78572082519531, scores={'nonmutagen': -2.308521032333374, 'mutagen': 2.2900924682617188}\n",
      "\n",
      "Prediction of the sample:  <generator object Trainer.train.<locals>.<genexpr> at 0x7fe3e94727a0>\n"
     ]
    },
    {
     "name": "stderr",
     "output_type": "stream",
     "text": [
      "  0%|          | 2/2000 [00:04<1:16:05,  2.29s/it, size=86.3, bpw=1.21, nonmutagen=-20.8, mutagen=20.8]"
     ]
    },
    {
     "name": "stdout",
     "output_type": "stream",
     "text": [
      "iteration=1, loss=230.89, size=86.32315063476562, scores={'nonmutagen': -20.829130172729492, 'mutagen': 20.768779754638672}\n",
      "\n",
      "Prediction of the sample:  <generator object Trainer.train.<locals>.<genexpr> at 0x7fe4da6bdd50>\n"
     ]
    },
    {
     "name": "stderr",
     "output_type": "stream",
     "text": [
      "  0%|          | 3/2000 [00:06<1:10:35,  2.12s/it, size=80.3, bpw=1.33, nonmutagen=-32.8, mutagen=32.7]"
     ]
    },
    {
     "name": "stdout",
     "output_type": "stream",
     "text": [
      "iteration=2, loss=184.39, size=80.33172607421875, scores={'nonmutagen': -32.818626403808594, 'mutagen': 32.72439956665039}\n",
      "\n",
      "Prediction of the sample:  <generator object Trainer.train.<locals>.<genexpr> at 0x7fe3e94727a0>\n"
     ]
    },
    {
     "name": "stderr",
     "output_type": "stream",
     "text": [
      "  0%|          | 4/2000 [00:08<1:02:48,  1.89s/it, size=84, bpw=1.46, nonmutagen=-52.4, mutagen=52.2]  "
     ]
    },
    {
     "name": "stdout",
     "output_type": "stream",
     "text": [
      "iteration=3, loss=132.50, size=83.9914779663086, scores={'nonmutagen': -52.35585021972656, 'mutagen': 52.2064323425293}\n",
      "\n",
      "Prediction of the sample:  <generator object Trainer.train.<locals>.<genexpr> at 0x7fe4da6bdd50>\n"
     ]
    },
    {
     "name": "stderr",
     "output_type": "stream",
     "text": [
      "  0%|          | 5/2000 [00:09<57:46,  1.74s/it, size=80.2, bpw=1.61, nonmutagen=-82.4, mutagen=82.2]  "
     ]
    },
    {
     "name": "stdout",
     "output_type": "stream",
     "text": [
      "iteration=4, loss=155.04, size=80.23506164550781, scores={'nonmutagen': -82.39955139160156, 'mutagen': 82.16525268554688}\n",
      "\n",
      "Prediction of the sample:  <generator object Trainer.train.<locals>.<genexpr> at 0x7fe3e94727a0>\n"
     ]
    },
    {
     "name": "stderr",
     "output_type": "stream",
     "text": [
      "  0%|          | 6/2000 [00:11<54:12,  1.63s/it, size=74.6, bpw=1.77, nonmutagen=-90.8, mutagen=90.5]"
     ]
    },
    {
     "name": "stdout",
     "output_type": "stream",
     "text": [
      "iteration=5, loss=128.47, size=74.58004760742188, scores={'nonmutagen': -90.76962280273438, 'mutagen': 90.51167297363281}\n",
      "\n",
      "Prediction of the sample:  <generator object Trainer.train.<locals>.<genexpr> at 0x7fe4da6bdd50>\n"
     ]
    },
    {
     "name": "stderr",
     "output_type": "stream",
     "text": [
      "  0%|          | 7/2000 [00:12<52:10,  1.57s/it, size=80.6, bpw=1.95, nonmutagen=-135, mutagen=134]  "
     ]
    },
    {
     "name": "stdout",
     "output_type": "stream",
     "text": [
      "iteration=6, loss=76.73, size=80.63238525390625, scores={'nonmutagen': -134.7620086669922, 'mutagen': 134.37979125976562}\n",
      "\n",
      "Prediction of the sample:  <generator object Trainer.train.<locals>.<genexpr> at 0x7fe3e94727a0>\n"
     ]
    },
    {
     "name": "stderr",
     "output_type": "stream",
     "text": [
      "  0%|          | 8/2000 [00:13<50:15,  1.51s/it, size=77.8, bpw=2.14, nonmutagen=-117, mutagen=117]"
     ]
    },
    {
     "name": "stdout",
     "output_type": "stream",
     "text": [
      "iteration=7, loss=96.22, size=77.80075073242188, scores={'nonmutagen': -117.19888305664062, 'mutagen': 116.86627197265625}\n"
     ]
    },
    {
     "name": "stderr",
     "output_type": "stream",
     "text": [
      "  0%|          | 8/2000 [00:15<50:15,  1.51s/it, size=68.6, bpw=2.36, nonmutagen=-152, mutagen=151]"
     ]
    },
    {
     "name": "stdout",
     "output_type": "stream",
     "text": [
      "\n",
      "Prediction of the sample:  <generator object Trainer.train.<locals>.<genexpr> at 0x7fe4da6bdd50>\n"
     ]
    },
    {
     "name": "stderr",
     "output_type": "stream",
     "text": [
      "  0%|          | 9/2000 [00:15<48:27,  1.46s/it, size=68.6, bpw=2.36, nonmutagen=-152, mutagen=151]"
     ]
    },
    {
     "name": "stdout",
     "output_type": "stream",
     "text": [
      "iteration=8, loss=106.45, size=68.62008666992188, scores={'nonmutagen': -151.91864013671875, 'mutagen': 151.4879608154297}\n",
      "\n",
      "Prediction of the sample:  <generator object Trainer.train.<locals>.<genexpr> at 0x7fe3e94727a0>\n"
     ]
    },
    {
     "name": "stderr",
     "output_type": "stream",
     "text": [
      "  0%|          | 10/2000 [00:16<50:08,  1.51s/it, size=69.9, bpw=2.59, nonmutagen=-165, mutagen=164]"
     ]
    },
    {
     "name": "stdout",
     "output_type": "stream",
     "text": [
      "iteration=9, loss=124.08, size=69.89752960205078, scores={'nonmutagen': -164.84237670898438, 'mutagen': 164.3751678466797}\n",
      "\n",
      "Prediction of the sample:  <generator object Trainer.train.<locals>.<genexpr> at 0x7fe4da6bdd50>\n"
     ]
    },
    {
     "name": "stderr",
     "output_type": "stream",
     "text": [
      "  1%|          | 11/2000 [00:18<48:36,  1.47s/it, size=74.6, bpw=2.85, nonmutagen=-142, mutagen=142]"
     ]
    },
    {
     "name": "stdout",
     "output_type": "stream",
     "text": [
      "iteration=10, loss=119.96, size=74.5627212524414, scores={'nonmutagen': -142.0191650390625, 'mutagen': 141.61643981933594}\n",
      "\n",
      "Prediction of the sample:  <generator object Trainer.train.<locals>.<genexpr> at 0x7fe3e94727a0>\n"
     ]
    },
    {
     "name": "stderr",
     "output_type": "stream",
     "text": [
      "  1%|          | 12/2000 [00:19<48:15,  1.46s/it, size=68.1, bpw=3.14, nonmutagen=-159, mutagen=158]"
     ]
    },
    {
     "name": "stdout",
     "output_type": "stream",
     "text": [
      "iteration=11, loss=134.10, size=68.12088012695312, scores={'nonmutagen': -158.62559509277344, 'mutagen': 158.1759490966797}\n"
     ]
    },
    {
     "name": "stderr",
     "output_type": "stream",
     "text": [
      "  1%|          | 12/2000 [00:21<48:15,  1.46s/it, size=68.9, bpw=3.45, nonmutagen=-152, mutagen=152]"
     ]
    },
    {
     "name": "stdout",
     "output_type": "stream",
     "text": [
      "\n",
      "Prediction of the sample:  <generator object Trainer.train.<locals>.<genexpr> at 0x7fe4da6bdd50>\n"
     ]
    },
    {
     "name": "stderr",
     "output_type": "stream",
     "text": [
      "  1%|          | 13/2000 [00:21<46:38,  1.41s/it, size=68.9, bpw=3.45, nonmutagen=-152, mutagen=152]"
     ]
    },
    {
     "name": "stdout",
     "output_type": "stream",
     "text": [
      "iteration=12, loss=146.70, size=68.94970703125, scores={'nonmutagen': -152.01986694335938, 'mutagen': 151.58889770507812}\n",
      "\n",
      "Prediction of the sample:  <generator object Trainer.train.<locals>.<genexpr> at 0x7fe3e94727a0>\n"
     ]
    },
    {
     "name": "stderr",
     "output_type": "stream",
     "text": [
      "  1%|          | 14/2000 [00:22<47:01,  1.42s/it, size=65.1, bpw=3.8, nonmutagen=-155, mutagen=155] "
     ]
    },
    {
     "name": "stdout",
     "output_type": "stream",
     "text": [
      "iteration=13, loss=180.42, size=65.10015106201172, scores={'nonmutagen': -155.35830688476562, 'mutagen': 154.91790771484375}\n",
      "\n",
      "Prediction of the sample:  <generator object Trainer.train.<locals>.<genexpr> at 0x7fe4da6bdd50>\n"
     ]
    },
    {
     "name": "stderr",
     "output_type": "stream",
     "text": [
      "  1%|          | 15/2000 [00:23<48:03,  1.45s/it, size=63.8, bpw=4.18, nonmutagen=-150, mutagen=150]"
     ]
    },
    {
     "name": "stdout",
     "output_type": "stream",
     "text": [
      "iteration=14, loss=176.72, size=63.822715759277344, scores={'nonmutagen': -150.42677307128906, 'mutagen': 150.0002899169922}\n",
      "\n",
      "Prediction of the sample:  <generator object Trainer.train.<locals>.<genexpr> at 0x7fe3e94727a0>\n"
     ]
    },
    {
     "name": "stderr",
     "output_type": "stream",
     "text": [
      "  1%|          | 16/2000 [00:25<48:13,  1.46s/it, size=63.9, bpw=4.59, nonmutagen=-152, mutagen=152]"
     ]
    },
    {
     "name": "stdout",
     "output_type": "stream",
     "text": [
      "iteration=15, loss=180.87, size=63.875732421875, scores={'nonmutagen': -152.11268615722656, 'mutagen': 151.6814422607422}\n",
      "\n",
      "Prediction of the sample:  <generator object Trainer.train.<locals>.<genexpr> at 0x7fe4da6bdd50>\n"
     ]
    },
    {
     "name": "stderr",
     "output_type": "stream",
     "text": [
      "  1%|          | 17/2000 [00:26<48:00,  1.45s/it, size=58.7, bpw=5.05, nonmutagen=-163, mutagen=162]"
     ]
    },
    {
     "name": "stdout",
     "output_type": "stream",
     "text": [
      "iteration=16, loss=193.52, size=58.69636917114258, scores={'nonmutagen': -162.72113037109375, 'mutagen': 162.25991821289062}\n",
      "\n",
      "Prediction of the sample:  <generator object Trainer.train.<locals>.<genexpr> at 0x7fe3e94727a0>\n"
     ]
    },
    {
     "name": "stderr",
     "output_type": "stream",
     "text": [
      "  1%|          | 18/2000 [00:28<47:11,  1.43s/it, size=52.8, bpw=5.56, nonmutagen=-152, mutagen=152]"
     ]
    },
    {
     "name": "stdout",
     "output_type": "stream",
     "text": [
      "iteration=17, loss=179.91, size=52.84638214111328, scores={'nonmutagen': -152.25181579589844, 'mutagen': 151.82017517089844}\n"
     ]
    },
    {
     "name": "stderr",
     "output_type": "stream",
     "text": [
      "  1%|          | 19/2000 [00:29<46:17,  1.40s/it, size=48.8, bpw=6.12, nonmutagen=-161, mutagen=160]"
     ]
    },
    {
     "name": "stdout",
     "output_type": "stream",
     "text": [
      "\n",
      "Prediction of the sample:  <generator object Trainer.train.<locals>.<genexpr> at 0x7fe4da6bdd50>\n",
      "iteration=18, loss=200.10, size=48.84994125366211, scores={'nonmutagen': -160.57626342773438, 'mutagen': 160.12112426757812}\n",
      "\n",
      "Prediction of the sample:  <generator object Trainer.train.<locals>.<genexpr> at 0x7fe3e94727a0>\n"
     ]
    },
    {
     "name": "stderr",
     "output_type": "stream",
     "text": [
      "  1%|          | 20/2000 [00:31<47:12,  1.43s/it, size=40.5, bpw=6.73, nonmutagen=-170, mutagen=170]"
     ]
    },
    {
     "name": "stdout",
     "output_type": "stream",
     "text": [
      "iteration=19, loss=219.57, size=40.50402069091797, scores={'nonmutagen': -170.1348876953125, 'mutagen': 169.65274047851562}\n",
      "\n",
      "Prediction of the sample:  <generator object Trainer.train.<locals>.<genexpr> at 0x7fe4da6bdd50>\n"
     ]
    },
    {
     "name": "stderr",
     "output_type": "stream",
     "text": [
      "  1%|          | 21/2000 [00:32<48:36,  1.47s/it, size=37.7, bpw=7.4, nonmutagen=-138, mutagen=138] "
     ]
    },
    {
     "name": "stdout",
     "output_type": "stream",
     "text": [
      "iteration=20, loss=214.16, size=37.738739013671875, scores={'nonmutagen': -138.3115692138672, 'mutagen': 137.9193115234375}\n",
      "\n",
      "Prediction of the sample:  <generator object Trainer.train.<locals>.<genexpr> at 0x7fe3e94727a0>\n"
     ]
    },
    {
     "name": "stderr",
     "output_type": "stream",
     "text": [
      "  1%|          | 22/2000 [00:34<47:48,  1.45s/it, size=33.8, bpw=8.14, nonmutagen=-150, mutagen=150]"
     ]
    },
    {
     "name": "stdout",
     "output_type": "stream",
     "text": [
      "iteration=21, loss=229.75, size=33.806182861328125, scores={'nonmutagen': -150.36273193359375, 'mutagen': 149.93643188476562}\n",
      "\n",
      "Prediction of the sample:  <generator object Trainer.train.<locals>.<genexpr> at 0x7fe4da6bdd50>\n"
     ]
    },
    {
     "name": "stderr",
     "output_type": "stream",
     "text": [
      "  1%|          | 23/2000 [00:35<49:00,  1.49s/it, size=29.6, bpw=8.95, nonmutagen=-163, mutagen=163]"
     ]
    },
    {
     "name": "stdout",
     "output_type": "stream",
     "text": [
      "iteration=22, loss=221.80, size=29.609163284301758, scores={'nonmutagen': -163.03884887695312, 'mutagen': 162.5767364501953}\n"
     ]
    },
    {
     "name": "stderr",
     "output_type": "stream",
     "text": [
      "  1%|          | 23/2000 [00:36<52:52,  1.60s/it, size=29.6, bpw=8.95, nonmutagen=-163, mutagen=163]"
     ]
    },
    {
     "name": "stdout",
     "output_type": "stream",
     "text": [
      "\n",
      "Prediction of the sample:  <generator object Trainer.train.<locals>.<genexpr> at 0x7fe3e94727a0>\n",
      "Expected number of edges of sample: 29.609163284301758; Budget: 30\n",
      "Current explanation has high prediction probability and low expected maximum number of edges. Hence, it is a good explanation.\n",
      "Breaking from train loop!\n",
      "\n"
     ]
    },
    {
     "name": "stderr",
     "output_type": "stream",
     "text": [
      "\n"
     ]
    },
    {
     "data": {
      "text/plain": [
       "True"
      ]
     },
     "execution_count": 11,
     "metadata": {},
     "output_type": "execute_result"
    }
   ],
   "source": [
    "trainer[1].train(2000)"
   ]
  },
  {
   "cell_type": "code",
   "execution_count": 12,
   "id": "7b268b4019492234",
   "metadata": {
    "ExecuteTime": {
     "end_time": "2023-10-30T09:57:21.623638Z",
     "start_time": "2023-10-30T09:57:21.554347Z"
    },
    "collapsed": false
   },
   "outputs": [
    {
     "name": "stdout",
     "output_type": "stream",
     "text": [
      "n=6 m=3\n",
      "logits=[-128.67247009277344, 128.30746459960938]\n",
      "probs=[0.0, 1.0]\n"
     ]
    },
    {
     "data": {
      "image/png": "[encoded data removed]",
      "text/plain": [
       "<Figure size 600x600 with 1 Axes>"
      ]
     },
     "metadata": {},
     "output_type": "display_data"
    }
   ],
   "source": [
    "G = trainer[1].evaluate(threshold=0.5, show=True)"
   ]
  },
  {
   "cell_type": "code",
   "execution_count": 14,
   "id": "84c07b57",
   "metadata": {},
   "outputs": [
    {
     "name": "stdout",
     "output_type": "stream",
     "text": [
      "<class 'networkx.classes.graph.Graph'>\n",
      "{2: {6: {'label': 1}}, 6: {2: {'label': 1}}, 4: {18: {'label': 2}}, 18: {4: {'label': 2}}, 8: {15: {'label': 1}}, 15: {8: {'label': 1}}}\n",
      "[2, 6, 4, 18, 8, 15]\n",
      "[(2, 6), (4, 18), (8, 15)]\n",
      "Nodes: \n",
      "{'label': 4}\n",
      "{'label': 0}\n",
      "{'label': 4}\n",
      "{'label': 4}\n",
      "{'label': 4}\n",
      "{'label': 4}\n",
      "Edges: \n",
      "{'label': 1}\n",
      "{'label': 2}\n",
      "{'label': 1}\n"
     ]
    }
   ],
   "source": [
    "print(type(G))\n",
    "print(G.adj)\n",
    "print(G.nodes)\n",
    "print(G.edges)\n",
    "\n",
    "print('Nodes: ')\n",
    "for v in list(G.nodes):\n",
    "    print(G.nodes[v])\n",
    "\n",
    "print('Edges: ')\n",
    "for e in G.edges:\n",
    "    print(G.edges[e])"
   ]
  },
  {
   "cell_type": "markdown",
   "id": "a64c4439",
   "metadata": {},
   "source": []
  },
  {
   "cell_type": "markdown",
   "id": "4f4d3ddd-9bb6-456c-9a68-5a3edd019e6e",
   "metadata": {},
   "source": [
    "# Non-Mutagen"
   ]
  },
  {
   "cell_type": "code",
   "execution_count": 15,
   "id": "c1750f1b40d1d86b",
   "metadata": {
    "ExecuteTime": {
     "end_time": "2023-10-30T09:58:02.779473Z",
     "start_time": "2023-10-30T09:58:02.752964Z"
    },
    "collapsed": false
   },
   "outputs": [],
   "source": [
    "cls_idx = 0\n",
    "trainer[cls_idx] = Trainer(\n",
    "    sampler=(s := GraphSampler(\n",
    "        max_nodes=20,\n",
    "        num_node_cls=len(dataset.NODE_CLS),\n",
    "        num_edge_cls=len(dataset.EDGE_CLS),\n",
    "        temperature=0.15,\n",
    "        learn_node_feat=True,\n",
    "        learn_edge_feat=True,\n",
    "    )),\n",
    "    discriminator=model,\n",
    "    criterion=WeightedCriterion([\n",
    "        dict(key=\"logits\", criterion=ClassScoreCriterion(class_idx=cls_idx, mode='maximize'), weight=1),\n",
    "        dict(key=\"embeds\", criterion=EmbeddingCriterion(target_embedding=mean_embeds[cls_idx]), weight=10),\n",
    "        dict(key=\"logits\", criterion=MeanPenalty(), weight=0),\n",
    "        dict(key=\"omega\", criterion=NormPenalty(order=1), weight=1),\n",
    "        dict(key=\"omega\", criterion=NormPenalty(order=2), weight=1),\n",
    "        dict(key=\"xi\", criterion=NormPenalty(order=1), weight=0),\n",
    "        dict(key=\"xi\", criterion=NormPenalty(order=2), weight=0),\n",
    "        # dict(key=\"eta\", criterion=NormPenalty(order=1), weight=0),\n",
    "        # dict(key=\"eta\", criterion=NormPenalty(order=2), weight=0),\n",
    "        dict(key=\"theta_pairs\", criterion=KLDivergencePenalty(binary=True), weight=0),\n",
    "    ]),\n",
    "    optimizer=(o := torch.optim.SGD(s.parameters(), lr=1)),\n",
    "    scheduler=torch.optim.lr_scheduler.ExponentialLR(o, gamma=1),\n",
    "    dataset=dataset,\n",
    "    budget_penalty=BudgetPenalty(budget=30, order=1, beta=1),\n",
    "    target_probs={cls_idx: (0.9, 1)},\n",
    "    k_samples=16\n",
    ")"
   ]
  },
  {
   "cell_type": "code",
   "execution_count": 16,
   "id": "dcc3278f-a073-42e2-b446-0115025e391f",
   "metadata": {
    "ExecuteTime": {
     "end_time": "2023-10-30T09:58:11.075873Z",
     "start_time": "2023-10-30T09:58:06.694010Z"
    }
   },
   "outputs": [
    {
     "name": "stderr",
     "output_type": "stream",
     "text": [
      "  0%|          | 1/2000 [00:02<1:32:52,  2.79s/it, size=85.6, bpw=0.95, nonmutagen=-8.45, mutagen=8.42]"
     ]
    },
    {
     "name": "stdout",
     "output_type": "stream",
     "text": [
      "iteration=0, loss=372.01, size=85.62525177001953, scores={'nonmutagen': -8.448118209838867, 'mutagen': 8.42274284362793}\n"
     ]
    },
    {
     "name": "stderr",
     "output_type": "stream",
     "text": [
      "  0%|          | 2/2000 [00:04<1:10:00,  2.10s/it, size=80.3, bpw=0.902, nonmutagen=-3.13, mutagen=3.09]"
     ]
    },
    {
     "name": "stdout",
     "output_type": "stream",
     "text": [
      "iteration=1, loss=236.76, size=80.3273696899414, scores={'nonmutagen': -3.130263566970825, 'mutagen': 3.0903449058532715}\n",
      "\n",
      "Prediction of the sample:  <generator object Trainer.train.<locals>.<genexpr> at 0x7fe4da6bdd50>\n"
     ]
    },
    {
     "name": "stderr",
     "output_type": "stream",
     "text": [
      "  0%|          | 3/2000 [00:05<59:57,  1.80s/it, size=90.4, bpw=0.993, nonmutagen=1.49, mutagen=-1.49]  "
     ]
    },
    {
     "name": "stdout",
     "output_type": "stream",
     "text": [
      "iteration=2, loss=183.72, size=90.3510513305664, scores={'nonmutagen': 1.4925965070724487, 'mutagen': -1.4935667514801025}\n"
     ]
    },
    {
     "name": "stderr",
     "output_type": "stream",
     "text": [
      "  0%|          | 4/2000 [00:07<54:44,  1.65s/it, size=86.6, bpw=0.943, nonmutagen=-1.93, mutagen=1.93]"
     ]
    },
    {
     "name": "stdout",
     "output_type": "stream",
     "text": [
      "iteration=3, loss=202.13, size=86.61408996582031, scores={'nonmutagen': -1.9347593784332275, 'mutagen': 1.9277851581573486}\n",
      "\n",
      "Prediction of the sample:  <generator object Trainer.train.<locals>.<genexpr> at 0x7fe4da6bdd50>\n"
     ]
    },
    {
     "name": "stderr",
     "output_type": "stream",
     "text": [
      "  0%|          | 5/2000 [00:08<52:02,  1.57s/it, size=82.8, bpw=1.04, nonmutagen=19.5, mutagen=-21.9] "
     ]
    },
    {
     "name": "stdout",
     "output_type": "stream",
     "text": [
      "iteration=4, loss=191.96, size=82.75816345214844, scores={'nonmutagen': 19.521211624145508, 'mutagen': -21.86780548095703}\n",
      "\n",
      "Prediction of the sample:  <generator object Trainer.train.<locals>.<genexpr> at 0x7fe3e2dae110>\n"
     ]
    },
    {
     "name": "stderr",
     "output_type": "stream",
     "text": [
      "  0%|          | 6/2000 [00:10<51:33,  1.55s/it, size=89, bpw=1.14, nonmutagen=19.9, mutagen=-21.5]  "
     ]
    },
    {
     "name": "stdout",
     "output_type": "stream",
     "text": [
      "iteration=5, loss=173.05, size=88.9756851196289, scores={'nonmutagen': 19.8707218170166, 'mutagen': -21.544580459594727}\n",
      "\n",
      "Prediction of the sample:  <generator object Trainer.train.<locals>.<genexpr> at 0x7fe4da6bdd50>\n"
     ]
    },
    {
     "name": "stderr",
     "output_type": "stream",
     "text": [
      "  0%|          | 7/2000 [00:11<53:45,  1.62s/it, size=86, bpw=1.26, nonmutagen=14.5, mutagen=-18.6]"
     ]
    },
    {
     "name": "stdout",
     "output_type": "stream",
     "text": [
      "iteration=6, loss=191.23, size=86.01301574707031, scores={'nonmutagen': 14.534823417663574, 'mutagen': -18.638456344604492}\n"
     ]
    },
    {
     "name": "stderr",
     "output_type": "stream",
     "text": [
      "  0%|          | 8/2000 [00:13<55:38,  1.68s/it, size=81.1, bpw=1.38, nonmutagen=7.24, mutagen=-11.7]"
     ]
    },
    {
     "name": "stdout",
     "output_type": "stream",
     "text": [
      "\n",
      "Prediction of the sample:  <generator object Trainer.train.<locals>.<genexpr> at 0x7fe3e2dae110>\n",
      "iteration=7, loss=215.44, size=81.07109069824219, scores={'nonmutagen': 7.235774040222168, 'mutagen': -11.732112884521484}\n",
      "\n",
      "Prediction of the sample:  <generator object Trainer.train.<locals>.<genexpr> at 0x7fe4da6bdd50>\n"
     ]
    },
    {
     "name": "stderr",
     "output_type": "stream",
     "text": [
      "  0%|          | 9/2000 [00:15<54:25,  1.64s/it, size=83, bpw=1.52, nonmutagen=5.3, mutagen=-6.66]   "
     ]
    },
    {
     "name": "stdout",
     "output_type": "stream",
     "text": [
      "iteration=8, loss=180.29, size=83.04805755615234, scores={'nonmutagen': 5.302541732788086, 'mutagen': -6.66315221786499}\n",
      "\n",
      "Prediction of the sample:  <generator object Trainer.train.<locals>.<genexpr> at 0x7fe3e2dae110>\n"
     ]
    },
    {
     "name": "stderr",
     "output_type": "stream",
     "text": [
      "  0%|          | 10/2000 [00:16<52:23,  1.58s/it, size=82.7, bpw=1.67, nonmutagen=10.5, mutagen=-11.1]"
     ]
    },
    {
     "name": "stdout",
     "output_type": "stream",
     "text": [
      "iteration=9, loss=197.67, size=82.67317962646484, scores={'nonmutagen': 10.49771499633789, 'mutagen': -11.106746673583984}\n",
      "\n",
      "Prediction of the sample:  <generator object Trainer.train.<locals>.<genexpr> at 0x7fe4da6bdd50>\n"
     ]
    },
    {
     "name": "stderr",
     "output_type": "stream",
     "text": [
      "  1%|          | 11/2000 [00:18<51:44,  1.56s/it, size=82.7, bpw=1.84, nonmutagen=18.9, mutagen=-20.5]"
     ]
    },
    {
     "name": "stdout",
     "output_type": "stream",
     "text": [
      "iteration=10, loss=203.34, size=82.73391723632812, scores={'nonmutagen': 18.940914154052734, 'mutagen': -20.538347244262695}\n",
      "\n",
      "Prediction of the sample:  <generator object Trainer.train.<locals>.<genexpr> at 0x7fe3e2dae110>\n"
     ]
    },
    {
     "name": "stderr",
     "output_type": "stream",
     "text": [
      "  1%|          | 12/2000 [00:19<53:05,  1.60s/it, size=74.9, bpw=2.02, nonmutagen=2.02, mutagen=-2.02]"
     ]
    },
    {
     "name": "stdout",
     "output_type": "stream",
     "text": [
      "iteration=11, loss=246.29, size=74.91639709472656, scores={'nonmutagen': 2.023547410964966, 'mutagen': -2.019339084625244}\n",
      "\n",
      "Prediction of the sample:  <generator object Trainer.train.<locals>.<genexpr> at 0x7fe4da6bdd50>\n"
     ]
    },
    {
     "name": "stderr",
     "output_type": "stream",
     "text": [
      "  1%|          | 13/2000 [00:21<53:50,  1.63s/it, size=77.1, bpw=2.22, nonmutagen=10.9, mutagen=-11.7]"
     ]
    },
    {
     "name": "stdout",
     "output_type": "stream",
     "text": [
      "iteration=12, loss=239.33, size=77.126220703125, scores={'nonmutagen': 10.945929527282715, 'mutagen': -11.679195404052734}\n",
      "\n",
      "Prediction of the sample:  <generator object Trainer.train.<locals>.<genexpr> at 0x7fe3e2dae110>\n"
     ]
    },
    {
     "name": "stderr",
     "output_type": "stream",
     "text": [
      "  1%|          | 14/2000 [00:23<53:52,  1.63s/it, size=74.6, bpw=2.45, nonmutagen=16.9, mutagen=-20.3]"
     ]
    },
    {
     "name": "stdout",
     "output_type": "stream",
     "text": [
      "iteration=13, loss=266.43, size=74.5833969116211, scores={'nonmutagen': 16.926969528198242, 'mutagen': -20.26599884033203}\n",
      "\n",
      "Prediction of the sample:  <generator object Trainer.train.<locals>.<genexpr> at 0x7fe4da6bdd50>\n"
     ]
    },
    {
     "name": "stderr",
     "output_type": "stream",
     "text": [
      "  1%|          | 15/2000 [00:24<54:16,  1.64s/it, size=72.6, bpw=2.69, nonmutagen=1.6, mutagen=-1.6]  "
     ]
    },
    {
     "name": "stdout",
     "output_type": "stream",
     "text": [
      "iteration=14, loss=277.65, size=72.5796127319336, scores={'nonmutagen': 1.599176287651062, 'mutagen': -1.5988447666168213}\n",
      "\n",
      "Prediction of the sample:  <generator object Trainer.train.<locals>.<genexpr> at 0x7fe3e2dae110>\n"
     ]
    },
    {
     "name": "stderr",
     "output_type": "stream",
     "text": [
      "  1%|          | 16/2000 [00:26<52:51,  1.60s/it, size=68.1, bpw=2.96, nonmutagen=5.27, mutagen=-6.52]"
     ]
    },
    {
     "name": "stdout",
     "output_type": "stream",
     "text": [
      "iteration=15, loss=270.69, size=68.07534790039062, scores={'nonmutagen': 5.271772384643555, 'mutagen': -6.517466068267822}\n",
      "\n",
      "Prediction of the sample:  <generator object Trainer.train.<locals>.<genexpr> at 0x7fe4da6bdd50>\n"
     ]
    },
    {
     "name": "stderr",
     "output_type": "stream",
     "text": [
      "  1%|          | 17/2000 [00:28<54:06,  1.64s/it, size=64.6, bpw=3.26, nonmutagen=4.02, mutagen=-4.41]"
     ]
    },
    {
     "name": "stdout",
     "output_type": "stream",
     "text": [
      "iteration=16, loss=279.72, size=64.59867858886719, scores={'nonmutagen': 4.0216064453125, 'mutagen': -4.406715393066406}\n",
      "\n",
      "Prediction of the sample:  <generator object Trainer.train.<locals>.<genexpr> at 0x7fe3e2dae110>\n"
     ]
    },
    {
     "name": "stderr",
     "output_type": "stream",
     "text": [
      "  1%|          | 18/2000 [00:29<52:18,  1.58s/it, size=72.9, bpw=3.58, nonmutagen=2.02, mutagen=-2.02]"
     ]
    },
    {
     "name": "stdout",
     "output_type": "stream",
     "text": [
      "iteration=17, loss=275.38, size=72.88075256347656, scores={'nonmutagen': 2.023547410964966, 'mutagen': -2.019339084625244}\n"
     ]
    },
    {
     "name": "stderr",
     "output_type": "stream",
     "text": [
      "  1%|          | 19/2000 [00:30<48:56,  1.48s/it, size=79.3, bpw=3.4, nonmutagen=-1.08, mutagen=1.07] "
     ]
    },
    {
     "name": "stdout",
     "output_type": "stream",
     "text": [
      "iteration=18, loss=255.16, size=79.25798034667969, scores={'nonmutagen': -1.0772390365600586, 'mutagen': 1.0726873874664307}\n"
     ]
    },
    {
     "name": "stderr",
     "output_type": "stream",
     "text": [
      "  1%|          | 20/2000 [00:32<47:39,  1.44s/it, size=76.6, bpw=3.23, nonmutagen=0.196, mutagen=-.197]"
     ]
    },
    {
     "name": "stdout",
     "output_type": "stream",
     "text": [
      "iteration=19, loss=287.31, size=76.56580352783203, scores={'nonmutagen': 0.19637298583984375, 'mutagen': -0.19732654094696045}\n",
      "\n",
      "Prediction of the sample:  <generator object Trainer.train.<locals>.<genexpr> at 0x7fe4da6bdd50>\n"
     ]
    },
    {
     "name": "stderr",
     "output_type": "stream",
     "text": [
      "  1%|          | 21/2000 [00:33<46:44,  1.42s/it, size=70.9, bpw=3.56, nonmutagen=2.18, mutagen=-2.74] "
     ]
    },
    {
     "name": "stdout",
     "output_type": "stream",
     "text": [
      "iteration=20, loss=321.42, size=70.88762664794922, scores={'nonmutagen': 2.1848320960998535, 'mutagen': -2.7369980812072754}\n"
     ]
    },
    {
     "name": "stderr",
     "output_type": "stream",
     "text": [
      "  1%|          | 22/2000 [00:34<45:44,  1.39s/it, size=64.3, bpw=3.91, nonmutagen=2.02, mutagen=-2.02]"
     ]
    },
    {
     "name": "stdout",
     "output_type": "stream",
     "text": [
      "\n",
      "Prediction of the sample:  <generator object Trainer.train.<locals>.<genexpr> at 0x7fe3e2dae110>\n",
      "iteration=21, loss=321.29, size=64.32254791259766, scores={'nonmutagen': 2.0232088565826416, 'mutagen': -2.0190253257751465}\n",
      "\n",
      "Prediction of the sample:  <generator object Trainer.train.<locals>.<genexpr> at 0x7fe4da6bdd50>\n"
     ]
    },
    {
     "name": "stderr",
     "output_type": "stream",
     "text": [
      "  1%|          | 23/2000 [00:36<46:21,  1.41s/it, size=67, bpw=4.3, nonmutagen=1.64, mutagen=-1.64]   "
     ]
    },
    {
     "name": "stdout",
     "output_type": "stream",
     "text": [
      "iteration=22, loss=317.53, size=66.95883178710938, scores={'nonmutagen': 1.639329195022583, 'mutagen': -1.6362062692642212}\n"
     ]
    },
    {
     "name": "stderr",
     "output_type": "stream",
     "text": [
      "  1%|          | 24/2000 [00:38<48:36,  1.48s/it, size=70.6, bpw=4.09, nonmutagen=-3, mutagen=2.99]"
     ]
    },
    {
     "name": "stdout",
     "output_type": "stream",
     "text": [
      "iteration=23, loss=326.05, size=70.62071990966797, scores={'nonmutagen': -2.998751401901245, 'mutagen': 2.988771438598633}\n",
      "\n",
      "Prediction of the sample:  <generator object Trainer.train.<locals>.<genexpr> at 0x7fe4da6bdd50>\n"
     ]
    },
    {
     "name": "stderr",
     "output_type": "stream",
     "text": [
      "  1%|▏         | 25/2000 [00:39<48:58,  1.49s/it, size=71.8, bpw=4.5, nonmutagen=2.23, mutagen=-2.83]"
     ]
    },
    {
     "name": "stdout",
     "output_type": "stream",
     "text": [
      "iteration=24, loss=336.51, size=71.76402282714844, scores={'nonmutagen': 2.234241008758545, 'mutagen': -2.825103759765625}\n",
      "\n",
      "Prediction of the sample:  <generator object Trainer.train.<locals>.<genexpr> at 0x7fe3e2dae110>\n"
     ]
    },
    {
     "name": "stderr",
     "output_type": "stream",
     "text": [
      "  1%|▏         | 26/2000 [00:40<47:13,  1.44s/it, size=66, bpw=4.95, nonmutagen=2.02, mutagen=-2.02] "
     ]
    },
    {
     "name": "stdout",
     "output_type": "stream",
     "text": [
      "iteration=25, loss=362.34, size=66.01695251464844, scores={'nonmutagen': 2.023547410964966, 'mutagen': -2.019339084625244}\n",
      "\n",
      "Prediction of the sample:  <generator object Trainer.train.<locals>.<genexpr> at 0x7fe4da6bdd50>\n"
     ]
    },
    {
     "name": "stderr",
     "output_type": "stream",
     "text": [
      "  1%|▏         | 27/2000 [00:42<46:04,  1.40s/it, size=54.8, bpw=5.44, nonmutagen=2.43, mutagen=-4.41]"
     ]
    },
    {
     "name": "stdout",
     "output_type": "stream",
     "text": [
      "iteration=26, loss=353.73, size=54.848960876464844, scores={'nonmutagen': 2.4275131225585938, 'mutagen': -4.409945011138916}\n",
      "\n",
      "Prediction of the sample:  <generator object Trainer.train.<locals>.<genexpr> at 0x7fe3e2dae110>\n"
     ]
    },
    {
     "name": "stderr",
     "output_type": "stream",
     "text": [
      "  1%|▏         | 28/2000 [00:44<50:33,  1.54s/it, size=51, bpw=5.98, nonmutagen=2.15, mutagen=-2.62]  "
     ]
    },
    {
     "name": "stdout",
     "output_type": "stream",
     "text": [
      "iteration=27, loss=355.98, size=50.98790740966797, scores={'nonmutagen': 2.1481902599334717, 'mutagen': -2.6157679557800293}\n",
      "\n",
      "Prediction of the sample:  <generator object Trainer.train.<locals>.<genexpr> at 0x7fe4da6bdd50>\n"
     ]
    },
    {
     "name": "stderr",
     "output_type": "stream",
     "text": [
      "  1%|▏         | 29/2000 [00:45<51:12,  1.56s/it, size=45.4, bpw=6.58, nonmutagen=2.02, mutagen=-2.02]"
     ]
    },
    {
     "name": "stdout",
     "output_type": "stream",
     "text": [
      "iteration=28, loss=356.83, size=45.42967987060547, scores={'nonmutagen': 2.023547410964966, 'mutagen': -2.019339084625244}\n"
     ]
    },
    {
     "name": "stderr",
     "output_type": "stream",
     "text": [
      "  2%|▏         | 30/2000 [00:47<50:16,  1.53s/it, size=44.3, bpw=6.25, nonmutagen=-2.44, mutagen=2.44]"
     ]
    },
    {
     "name": "stdout",
     "output_type": "stream",
     "text": [
      "iteration=29, loss=368.65, size=44.283878326416016, scores={'nonmutagen': -2.444781541824341, 'mutagen': 2.436366558074951}\n"
     ]
    },
    {
     "name": "stderr",
     "output_type": "stream",
     "text": [
      "  2%|▏         | 31/2000 [00:48<49:21,  1.50s/it, size=48.8, bpw=5.94, nonmutagen=0.446, mutagen=-.446]"
     ]
    },
    {
     "name": "stdout",
     "output_type": "stream",
     "text": [
      "iteration=30, loss=353.67, size=48.77122116088867, scores={'nonmutagen': 0.445870041847229, 'mutagen': -0.4461188316345215}\n",
      "\n",
      "Prediction of the sample:  <generator object Trainer.train.<locals>.<genexpr> at 0x7fe3e2dae110>\n"
     ]
    },
    {
     "name": "stderr",
     "output_type": "stream",
     "text": [
      "  2%|▏         | 32/2000 [00:50<50:07,  1.53s/it, size=46.8, bpw=6.53, nonmutagen=2.02, mutagen=-2.02] "
     ]
    },
    {
     "name": "stdout",
     "output_type": "stream",
     "text": [
      "iteration=31, loss=406.68, size=46.7731819152832, scores={'nonmutagen': 2.023547410964966, 'mutagen': -2.019339084625244}\n",
      "\n",
      "Prediction of the sample:  <generator object Trainer.train.<locals>.<genexpr> at 0x7fe4da6bdd50>\n"
     ]
    },
    {
     "name": "stderr",
     "output_type": "stream",
     "text": [
      "  2%|▏         | 33/2000 [00:51<48:44,  1.49s/it, size=40.9, bpw=7.19, nonmutagen=1.9, mutagen=-1.89] "
     ]
    },
    {
     "name": "stdout",
     "output_type": "stream",
     "text": [
      "iteration=32, loss=403.97, size=40.94645309448242, scores={'nonmutagen': 1.8981915712356567, 'mutagen': -1.8942497968673706}\n",
      "\n",
      "Prediction of the sample:  <generator object Trainer.train.<locals>.<genexpr> at 0x7fe3e2dae110>\n"
     ]
    },
    {
     "name": "stderr",
     "output_type": "stream",
     "text": [
      "  2%|▏         | 34/2000 [00:52<47:45,  1.46s/it, size=39.4, bpw=7.91, nonmutagen=1.67, mutagen=-1.62]"
     ]
    },
    {
     "name": "stdout",
     "output_type": "stream",
     "text": [
      "iteration=33, loss=379.99, size=39.371620178222656, scores={'nonmutagen': 1.6711664199829102, 'mutagen': -1.6199952363967896}\n",
      "\n",
      "Prediction of the sample:  <generator object Trainer.train.<locals>.<genexpr> at 0x7fe4da6bdd50>\n"
     ]
    },
    {
     "name": "stderr",
     "output_type": "stream",
     "text": [
      "  2%|▏         | 35/2000 [00:54<49:03,  1.50s/it, size=33.2, bpw=8.7, nonmutagen=1.79, mutagen=-1.79] "
     ]
    },
    {
     "name": "stdout",
     "output_type": "stream",
     "text": [
      "iteration=34, loss=427.90, size=33.22499084472656, scores={'nonmutagen': 1.7880911827087402, 'mutagen': -1.7929589748382568}\n",
      "\n",
      "Prediction of the sample:  <generator object Trainer.train.<locals>.<genexpr> at 0x7fe3e2dae110>\n"
     ]
    },
    {
     "name": "stderr",
     "output_type": "stream",
     "text": [
      "  2%|▏         | 36/2000 [00:56<49:47,  1.52s/it, size=29.2, bpw=9.57, nonmutagen=1.86, mutagen=-1.82]"
     ]
    },
    {
     "name": "stdout",
     "output_type": "stream",
     "text": [
      "iteration=35, loss=410.26, size=29.20714569091797, scores={'nonmutagen': 1.8568358421325684, 'mutagen': -1.8158820867538452}\n"
     ]
    },
    {
     "name": "stderr",
     "output_type": "stream",
     "text": [
      "  2%|▏         | 36/2000 [00:57<52:22,  1.60s/it, size=29.2, bpw=9.57, nonmutagen=1.86, mutagen=-1.82]"
     ]
    },
    {
     "name": "stdout",
     "output_type": "stream",
     "text": [
      "\n",
      "Prediction of the sample:  <generator object Trainer.train.<locals>.<genexpr> at 0x7fe4da6bdd50>\n",
      "Expected number of edges of sample: 29.20714569091797; Budget: 30\n",
      "Current explanation has high prediction probability and low expected maximum number of edges. Hence, it is a good explanation.\n",
      "Breaking from train loop!\n",
      "\n"
     ]
    },
    {
     "name": "stderr",
     "output_type": "stream",
     "text": [
      "\n"
     ]
    },
    {
     "data": {
      "text/plain": [
       "True"
      ]
     },
     "execution_count": 16,
     "metadata": {},
     "output_type": "execute_result"
    }
   ],
   "source": [
    "trainer[0].train(2000)"
   ]
  },
  {
   "cell_type": "code",
   "execution_count": 17,
   "id": "10896fc3a8e2ea3d",
   "metadata": {
    "ExecuteTime": {
     "end_time": "2023-10-30T09:58:15.932158Z",
     "start_time": "2023-10-30T09:58:15.863971Z"
    },
    "collapsed": false
   },
   "outputs": [
    {
     "name": "stdout",
     "output_type": "stream",
     "text": [
      "n=7 m=5\n",
      "logits=[1.6864771842956543, -1.6232868432998657]\n",
      "probs=[0.964762270450592, 0.03523774445056915]\n"
     ]
    },
    {
     "data": {
      "image/png": "[encoded data removed]",
      "text/plain": [
       "<Figure size 600x600 with 1 Axes>"
      ]
     },
     "metadata": {},
     "output_type": "display_data"
    }
   ],
   "source": [
    "G = trainer[0].evaluate(threshold=0.5, show=True)"
   ]
  },
  {
   "cell_type": "code",
   "execution_count": 20,
   "id": "5f2ee2c4-fcdf-4a7e-be20-6a329b4909a4",
   "metadata": {},
   "outputs": [
    {
     "name": "stdout",
     "output_type": "stream",
     "text": [
      "<class 'networkx.classes.graph.Graph'>\n",
      "{0: {1: {'label': 1}, 17: {'label': 3}}, 1: {0: {'label': 1}}, 17: {0: {'label': 3}}, 2: {13: {'label': 1}}, 13: {2: {'label': 1}, 12: {'label': 1}}, 12: {13: {'label': 1}, 14: {'label': 2}}, 14: {12: {'label': 2}}}\n",
      "[0, 1, 17, 2, 13, 12, 14]\n",
      "[(0, 1), (0, 17), (2, 13), (13, 12), (12, 14)]\n",
      "Nodes: \n",
      "{'label': 2}\n",
      "{'label': 2}\n",
      "{'label': 6}\n",
      "{'label': 2}\n",
      "{'label': 3}\n",
      "{'label': 2}\n",
      "{'label': 5}\n",
      "Edges: \n",
      "{'label': 1}\n",
      "{'label': 3}\n",
      "{'label': 1}\n",
      "{'label': 1}\n",
      "{'label': 2}\n",
      "--\n",
      "{'label': 1}\n"
     ]
    }
   ],
   "source": [
    "print(type(G))\n",
    "print(G.adj)\n",
    "print(G.nodes)\n",
    "print(G.edges)\n",
    "\n",
    "print('Nodes: ')\n",
    "for v in list(G.nodes):\n",
    "    print(G.nodes[v])\n",
    "    \n",
    "print('Edges: ')\n",
    "for e in G.edges:\n",
    "    print(G.edges[e])\n",
    "    \n"
   ]
  },
  {
   "cell_type": "code",
   "execution_count": null,
   "id": "5fdd6b21",
   "metadata": {},
   "outputs": [],
   "source": []
  }
 ],
 "metadata": {
  "kernelspec": {
   "display_name": "Python 3 (ipykernel)",
   "language": "python",
   "name": "python3"
  },
  "language_info": {
   "codemirror_mode": {
    "name": "ipython",
    "version": 3
   },
   "file_extension": ".py",
   "mimetype": "text/x-python",
   "name": "python",
   "nbconvert_exporter": "python",
   "pygments_lexer": "ipython3",
   "version": "3.11.7"
  },
  "widgets": {
   "application/vnd.jupyter.widget-state+json": {
    "state": {
     "07b43483463e4ae3b9a7b160d8938299": {
      "model_module": "@jupyter-widgets/controls",
      "model_module_version": "2.0.0",
      "model_name": "DescriptionStyleModel",
      "state": {
       "_model_module": "@jupyter-widgets/controls",
       "_model_name": "DescriptionStyleModel",
       "_view_name": "ErrorWidgetView",
       "description_width": "",
       "error": {},
       "msg": "Failed to load model class 'DescriptionStyleModel' from module '@jupyter-widgets/controls'"
      }
     },
     "0b87e5fec1ff41aeb4c9e624a222f89b": {
      "model_module": "@jupyter-widgets/base",
      "model_module_version": "2.0.0",
      "model_name": "LayoutModel",
      "state": {
       "_model_name": "LayoutModel",
       "_view_name": "ErrorWidgetView",
       "align_content": null,
       "align_items": null,
       "align_self": null,
       "border": null,
       "bottom": null,
       "display": null,
       "error": {},
       "flex": null,
       "flex_flow": null,
       "grid_area": null,
       "grid_auto_columns": null,
       "grid_auto_flow": null,
       "grid_auto_rows": null,
       "grid_column": null,
       "grid_gap": null,
       "grid_row": null,
       "grid_template_areas": null,
       "grid_template_columns": null,
       "grid_template_rows": null,
       "height": null,
       "justify_content": null,
       "justify_items": null,
       "left": null,
       "margin": null,
       "max_height": null,
       "max_width": null,
       "min_height": null,
       "min_width": null,
       "msg": "Failed to load model class 'LayoutModel' from module '@jupyter-widgets/base'",
       "object_fit": null,
       "object_position": null,
       "order": null,
       "overflow": null,
       "overflow_x": null,
       "overflow_y": null,
       "padding": null,
       "right": null,
       "top": null,
       "visibility": null,
       "width": null
      }
     },
     "0cf8ded72d3147d681343573a3c5c3ad": {
      "model_module": "@jupyter-widgets/base",
      "model_module_version": "2.0.0",
      "model_name": "LayoutModel",
      "state": {
       "_model_name": "LayoutModel",
       "_view_name": "ErrorWidgetView",
       "align_content": null,
       "align_items": null,
       "align_self": null,
       "border": null,
       "bottom": null,
       "display": null,
       "error": {},
       "flex": null,
       "flex_flow": null,
       "grid_area": null,
       "grid_auto_columns": null,
       "grid_auto_flow": null,
       "grid_auto_rows": null,
       "grid_column": null,
       "grid_gap": null,
       "grid_row": null,
       "grid_template_areas": null,
       "grid_template_columns": null,
       "grid_template_rows": null,
       "height": null,
       "justify_content": null,
       "justify_items": null,
       "left": null,
       "margin": null,
       "max_height": null,
       "max_width": null,
       "min_height": null,
       "min_width": null,
       "msg": "Failed to load model class 'LayoutModel' from module '@jupyter-widgets/base'",
       "object_fit": null,
       "object_position": null,
       "order": null,
       "overflow": null,
       "overflow_x": null,
       "overflow_y": null,
       "padding": null,
       "right": null,
       "top": null,
       "visibility": null,
       "width": null
      }
     },
     "0ef53961cc214c23a5cc520142ed3530": {
      "model_module": "@jupyter-widgets/controls",
      "model_module_version": "2.0.0",
      "model_name": "DescriptionStyleModel",
      "state": {
       "_model_module": "@jupyter-widgets/controls",
       "_model_name": "DescriptionStyleModel",
       "_view_name": "ErrorWidgetView",
       "description_width": "",
       "error": {},
       "msg": "Failed to load model class 'DescriptionStyleModel' from module '@jupyter-widgets/controls'"
      }
     },
     "10730754cf7a43eca9820d10763e9a41": {
      "model_module": "@jupyter-widgets/controls",
      "model_module_version": "2.0.0",
      "model_name": "HTMLModel",
      "state": {
       "_model_module": "@jupyter-widgets/controls",
       "_model_name": "HTMLModel",
       "_view_name": "ErrorWidgetView",
       "description": "",
       "description_tooltip": null,
       "error": {},
       "layout": "IPY_MODEL_1958cff3714b451e95a8fbc5e76541b6",
       "msg": "Failed to load model class 'HTMLModel' from module '@jupyter-widgets/controls'",
       "placeholder": "​",
       "style": "IPY_MODEL_0ef53961cc214c23a5cc520142ed3530",
       "value": " 11531/11531 [00:33&lt;00:00, 255.26it/s]"
      }
     },
     "14391e150296461ca407c9ff78c5ae7e": {
      "model_module": "@jupyter-widgets/controls",
      "model_module_version": "2.0.0",
      "model_name": "DescriptionStyleModel",
      "state": {
       "_model_module": "@jupyter-widgets/controls",
       "_model_name": "DescriptionStyleModel",
       "_view_name": "ErrorWidgetView",
       "description_width": "",
       "error": {},
       "msg": "Failed to load model class 'DescriptionStyleModel' from module '@jupyter-widgets/controls'"
      }
     },
     "1958cff3714b451e95a8fbc5e76541b6": {
      "model_module": "@jupyter-widgets/base",
      "model_module_version": "2.0.0",
      "model_name": "LayoutModel",
      "state": {
       "_model_name": "LayoutModel",
       "_view_name": "ErrorWidgetView",
       "align_content": null,
       "align_items": null,
       "align_self": null,
       "border": null,
       "bottom": null,
       "display": null,
       "error": {},
       "flex": null,
       "flex_flow": null,
       "grid_area": null,
       "grid_auto_columns": null,
       "grid_auto_flow": null,
       "grid_auto_rows": null,
       "grid_column": null,
       "grid_gap": null,
       "grid_row": null,
       "grid_template_areas": null,
       "grid_template_columns": null,
       "grid_template_rows": null,
       "height": null,
       "justify_content": null,
       "justify_items": null,
       "left": null,
       "margin": null,
       "max_height": null,
       "max_width": null,
       "min_height": null,
       "min_width": null,
       "msg": "Failed to load model class 'LayoutModel' from module '@jupyter-widgets/base'",
       "object_fit": null,
       "object_position": null,
       "order": null,
       "overflow": null,
       "overflow_x": null,
       "overflow_y": null,
       "padding": null,
       "right": null,
       "top": null,
       "visibility": null,
       "width": null
      }
     },
     "218cfca13d80402ab877a02fc12211cb": {
      "model_module": "@jupyter-widgets/base",
      "model_module_version": "2.0.0",
      "model_name": "LayoutModel",
      "state": {
       "_model_name": "LayoutModel",
       "_view_name": "ErrorWidgetView",
       "align_content": null,
       "align_items": null,
       "align_self": null,
       "border": null,
       "bottom": null,
       "display": null,
       "error": {},
       "flex": null,
       "flex_flow": null,
       "grid_area": null,
       "grid_auto_columns": null,
       "grid_auto_flow": null,
       "grid_auto_rows": null,
       "grid_column": null,
       "grid_gap": null,
       "grid_row": null,
       "grid_template_areas": null,
       "grid_template_columns": null,
       "grid_template_rows": null,
       "height": null,
       "justify_content": null,
       "justify_items": null,
       "left": null,
       "margin": null,
       "max_height": null,
       "max_width": null,
       "min_height": null,
       "min_width": null,
       "msg": "Failed to load model class 'LayoutModel' from module '@jupyter-widgets/base'",
       "object_fit": null,
       "object_position": null,
       "order": null,
       "overflow": null,
       "overflow_x": null,
       "overflow_y": null,
       "padding": null,
       "right": null,
       "top": null,
       "visibility": null,
       "width": null
      }
     },
     "26ccacccb90843b7ac727e9595ab1596": {
      "model_module": "@jupyter-widgets/controls",
      "model_module_version": "2.0.0",
      "model_name": "HBoxModel",
      "state": {
       "_model_module": "@jupyter-widgets/controls",
       "_model_name": "HBoxModel",
       "_view_name": "ErrorWidgetView",
       "box_style": "",
       "children": [
        "IPY_MODEL_34fa3b9e3ba74ee399312caeceb99f69",
        "IPY_MODEL_54daa2fea4ec45d0a23452074efd359e",
        "IPY_MODEL_10730754cf7a43eca9820d10763e9a41"
       ],
       "error": {},
       "layout": "IPY_MODEL_6d28c2f4d48043aa90f29bb764583bf9",
       "msg": "Failed to load model class 'HBoxModel' from module '@jupyter-widgets/controls'"
      }
     },
     "34fa3b9e3ba74ee399312caeceb99f69": {
      "model_module": "@jupyter-widgets/controls",
      "model_module_version": "2.0.0",
      "model_name": "HTMLModel",
      "state": {
       "_model_module": "@jupyter-widgets/controls",
       "_model_name": "HTMLModel",
       "_view_name": "ErrorWidgetView",
       "description": "",
       "description_tooltip": null,
       "error": {},
       "layout": "IPY_MODEL_e9446ec84ebf43ada6872814f2acb0bb",
       "msg": "Failed to load model class 'HTMLModel' from module '@jupyter-widgets/controls'",
       "placeholder": "​",
       "style": "IPY_MODEL_690ee1b6a3cf43adb5164f200cad4fb4",
       "value": "100%"
      }
     },
     "45e44448b1ea450db792b21878b84f01": {
      "model_module": "@jupyter-widgets/controls",
      "model_module_version": "2.0.0",
      "model_name": "ProgressStyleModel",
      "state": {
       "_model_module": "@jupyter-widgets/controls",
       "_model_name": "ProgressStyleModel",
       "_view_name": "ErrorWidgetView",
       "bar_color": null,
       "description_width": "",
       "error": {},
       "msg": "Failed to load model class 'ProgressStyleModel' from module '@jupyter-widgets/controls'"
      }
     },
     "54daa2fea4ec45d0a23452074efd359e": {
      "model_module": "@jupyter-widgets/controls",
      "model_module_version": "2.0.0",
      "model_name": "FloatProgressModel",
      "state": {
       "_model_module": "@jupyter-widgets/controls",
       "_model_name": "FloatProgressModel",
       "_view_name": "ErrorWidgetView",
       "bar_style": "success",
       "description": "",
       "description_tooltip": null,
       "error": {},
       "layout": "IPY_MODEL_218cfca13d80402ab877a02fc12211cb",
       "max": 11531,
       "min": 0,
       "msg": "Failed to load model class 'FloatProgressModel' from module '@jupyter-widgets/controls'",
       "orientation": "horizontal",
       "style": "IPY_MODEL_9706bfc895af4431a44ab22509435387",
       "value": 11531
      }
     },
     "690ee1b6a3cf43adb5164f200cad4fb4": {
      "model_module": "@jupyter-widgets/controls",
      "model_module_version": "2.0.0",
      "model_name": "DescriptionStyleModel",
      "state": {
       "_model_module": "@jupyter-widgets/controls",
       "_model_name": "DescriptionStyleModel",
       "_view_name": "ErrorWidgetView",
       "description_width": "",
       "error": {},
       "msg": "Failed to load model class 'DescriptionStyleModel' from module '@jupyter-widgets/controls'"
      }
     },
     "6d28c2f4d48043aa90f29bb764583bf9": {
      "model_module": "@jupyter-widgets/base",
      "model_module_version": "2.0.0",
      "model_name": "LayoutModel",
      "state": {
       "_model_name": "LayoutModel",
       "_view_name": "ErrorWidgetView",
       "align_content": null,
       "align_items": null,
       "align_self": null,
       "border": null,
       "bottom": null,
       "display": null,
       "error": {},
       "flex": null,
       "flex_flow": null,
       "grid_area": null,
       "grid_auto_columns": null,
       "grid_auto_flow": null,
       "grid_auto_rows": null,
       "grid_column": null,
       "grid_gap": null,
       "grid_row": null,
       "grid_template_areas": null,
       "grid_template_columns": null,
       "grid_template_rows": null,
       "height": null,
       "justify_content": null,
       "justify_items": null,
       "left": null,
       "margin": null,
       "max_height": null,
       "max_width": null,
       "min_height": null,
       "min_width": null,
       "msg": "Failed to load model class 'LayoutModel' from module '@jupyter-widgets/base'",
       "object_fit": null,
       "object_position": null,
       "order": null,
       "overflow": null,
       "overflow_x": null,
       "overflow_y": null,
       "padding": null,
       "right": null,
       "top": null,
       "visibility": null,
       "width": null
      }
     },
     "6e12fbb8b0f349e09c32c14601a1eddc": {
      "model_module": "@jupyter-widgets/controls",
      "model_module_version": "2.0.0",
      "model_name": "HTMLModel",
      "state": {
       "_model_module": "@jupyter-widgets/controls",
       "_model_name": "HTMLModel",
       "_view_name": "ErrorWidgetView",
       "description": "",
       "description_tooltip": null,
       "error": {},
       "layout": "IPY_MODEL_0cf8ded72d3147d681343573a3c5c3ad",
       "msg": "Failed to load model class 'HTMLModel' from module '@jupyter-widgets/controls'",
       "placeholder": "​",
       "style": "IPY_MODEL_07b43483463e4ae3b9a7b160d8938299",
       "value": "Loading graphs: 100%"
      }
     },
     "7821741103e94b03923bba81dbc4c2a9": {
      "model_module": "@jupyter-widgets/controls",
      "model_module_version": "2.0.0",
      "model_name": "HTMLModel",
      "state": {
       "_model_module": "@jupyter-widgets/controls",
       "_model_name": "HTMLModel",
       "_view_name": "ErrorWidgetView",
       "description": "",
       "description_tooltip": null,
       "error": {},
       "layout": "IPY_MODEL_0b87e5fec1ff41aeb4c9e624a222f89b",
       "msg": "Failed to load model class 'HTMLModel' from module '@jupyter-widgets/controls'",
       "placeholder": "​",
       "style": "IPY_MODEL_14391e150296461ca407c9ff78c5ae7e",
       "value": " 11534/11534 [00:56&lt;00:00, 247.95it/s]"
      }
     },
     "9706bfc895af4431a44ab22509435387": {
      "model_module": "@jupyter-widgets/controls",
      "model_module_version": "2.0.0",
      "model_name": "ProgressStyleModel",
      "state": {
       "_model_module": "@jupyter-widgets/controls",
       "_model_name": "ProgressStyleModel",
       "_view_name": "ErrorWidgetView",
       "bar_color": null,
       "description_width": "",
       "error": {},
       "msg": "Failed to load model class 'ProgressStyleModel' from module '@jupyter-widgets/controls'"
      }
     },
     "9b5d28e41af94931b674dcd1ddf14562": {
      "model_module": "@jupyter-widgets/base",
      "model_module_version": "2.0.0",
      "model_name": "LayoutModel",
      "state": {
       "_model_name": "LayoutModel",
       "_view_name": "ErrorWidgetView",
       "align_content": null,
       "align_items": null,
       "align_self": null,
       "border": null,
       "bottom": null,
       "display": null,
       "error": {},
       "flex": null,
       "flex_flow": null,
       "grid_area": null,
       "grid_auto_columns": null,
       "grid_auto_flow": null,
       "grid_auto_rows": null,
       "grid_column": null,
       "grid_gap": null,
       "grid_row": null,
       "grid_template_areas": null,
       "grid_template_columns": null,
       "grid_template_rows": null,
       "height": null,
       "justify_content": null,
       "justify_items": null,
       "left": null,
       "margin": null,
       "max_height": null,
       "max_width": null,
       "min_height": null,
       "min_width": null,
       "msg": "Failed to load model class 'LayoutModel' from module '@jupyter-widgets/base'",
       "object_fit": null,
       "object_position": null,
       "order": null,
       "overflow": null,
       "overflow_x": null,
       "overflow_y": null,
       "padding": null,
       "right": null,
       "top": null,
       "visibility": null,
       "width": null
      }
     },
     "c5606e09c1de4100be70fc1ef5fb367d": {
      "model_module": "@jupyter-widgets/base",
      "model_module_version": "2.0.0",
      "model_name": "LayoutModel",
      "state": {
       "_model_name": "LayoutModel",
       "_view_name": "ErrorWidgetView",
       "align_content": null,
       "align_items": null,
       "align_self": null,
       "border": null,
       "bottom": null,
       "display": null,
       "error": {},
       "flex": null,
       "flex_flow": null,
       "grid_area": null,
       "grid_auto_columns": null,
       "grid_auto_flow": null,
       "grid_auto_rows": null,
       "grid_column": null,
       "grid_gap": null,
       "grid_row": null,
       "grid_template_areas": null,
       "grid_template_columns": null,
       "grid_template_rows": null,
       "height": null,
       "justify_content": null,
       "justify_items": null,
       "left": null,
       "margin": null,
       "max_height": null,
       "max_width": null,
       "min_height": null,
       "min_width": null,
       "msg": "Failed to load model class 'LayoutModel' from module '@jupyter-widgets/base'",
       "object_fit": null,
       "object_position": null,
       "order": null,
       "overflow": null,
       "overflow_x": null,
       "overflow_y": null,
       "padding": null,
       "right": null,
       "top": null,
       "visibility": null,
       "width": null
      }
     },
     "ce6b2459d7fb430d9b0a8820031189de": {
      "model_module": "@jupyter-widgets/controls",
      "model_module_version": "2.0.0",
      "model_name": "FloatProgressModel",
      "state": {
       "_model_module": "@jupyter-widgets/controls",
       "_model_name": "FloatProgressModel",
       "_view_name": "ErrorWidgetView",
       "bar_style": "success",
       "description": "",
       "description_tooltip": null,
       "error": {},
       "layout": "IPY_MODEL_c5606e09c1de4100be70fc1ef5fb367d",
       "max": 11534,
       "min": 0,
       "msg": "Failed to load model class 'FloatProgressModel' from module '@jupyter-widgets/controls'",
       "orientation": "horizontal",
       "style": "IPY_MODEL_45e44448b1ea450db792b21878b84f01",
       "value": 11534
      }
     },
     "e9446ec84ebf43ada6872814f2acb0bb": {
      "model_module": "@jupyter-widgets/base",
      "model_module_version": "2.0.0",
      "model_name": "LayoutModel",
      "state": {
       "_model_name": "LayoutModel",
       "_view_name": "ErrorWidgetView",
       "align_content": null,
       "align_items": null,
       "align_self": null,
       "border": null,
       "bottom": null,
       "display": null,
       "error": {},
       "flex": null,
       "flex_flow": null,
       "grid_area": null,
       "grid_auto_columns": null,
       "grid_auto_flow": null,
       "grid_auto_rows": null,
       "grid_column": null,
       "grid_gap": null,
       "grid_row": null,
       "grid_template_areas": null,
       "grid_template_columns": null,
       "grid_template_rows": null,
       "height": null,
       "justify_content": null,
       "justify_items": null,
       "left": null,
       "margin": null,
       "max_height": null,
       "max_width": null,
       "min_height": null,
       "min_width": null,
       "msg": "Failed to load model class 'LayoutModel' from module '@jupyter-widgets/base'",
       "object_fit": null,
       "object_position": null,
       "order": null,
       "overflow": null,
       "overflow_x": null,
       "overflow_y": null,
       "padding": null,
       "right": null,
       "top": null,
       "visibility": null,
       "width": null
      }
     },
     "f64c7011415b4ea3a3043c3a81009193": {
      "model_module": "@jupyter-widgets/controls",
      "model_module_version": "2.0.0",
      "model_name": "HBoxModel",
      "state": {
       "_model_module": "@jupyter-widgets/controls",
       "_model_name": "HBoxModel",
       "_view_name": "ErrorWidgetView",
       "box_style": "",
       "children": [
        "IPY_MODEL_6e12fbb8b0f349e09c32c14601a1eddc",
        "IPY_MODEL_ce6b2459d7fb430d9b0a8820031189de",
        "IPY_MODEL_7821741103e94b03923bba81dbc4c2a9"
       ],
       "error": {},
       "layout": "IPY_MODEL_9b5d28e41af94931b674dcd1ddf14562",
       "msg": "Failed to load model class 'HBoxModel' from module '@jupyter-widgets/controls'"
      }
     }
    },
    "version_major": 2,
    "version_minor": 0
   }
  }
 },
 "nbformat": 4,
 "nbformat_minor": 5
}
