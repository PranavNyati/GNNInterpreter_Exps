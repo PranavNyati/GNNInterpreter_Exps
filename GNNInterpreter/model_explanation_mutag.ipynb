{
 "cells": [
  {
   "cell_type": "code",
   "execution_count": 1,
   "id": "1a91b813",
   "metadata": {
    "collapsed": false,
    "is_executing": true,
    "pycharm": {
     "name": "#%%\n"
    }
   },
   "outputs": [],
   "source": [
    "%load_ext autoreload\n",
    "%autoreload 2"
   ]
  },
  {
   "cell_type": "code",
   "execution_count": 2,
   "id": "c7f4188d",
   "metadata": {
    "ExecuteTime": {
     "end_time": "2023-11-04T07:41:01.560395Z",
     "start_time": "2023-11-04T07:40:57.794259Z"
    },
    "collapsed": false,
    "pycharm": {
     "name": "#%%\n"
    }
   },
   "outputs": [
    {
     "name": "stderr",
     "output_type": "stream",
     "text": [
      "/home/du0/20CS30037/miniconda3/envs/gnn_inter/lib/python3.11/site-packages/tqdm/auto.py:21: TqdmWarning: IProgress not found. Please update jupyter and ipywidgets. See https://ipywidgets.readthedocs.io/en/stable/user_install.html\n",
      "  from .autonotebook import tqdm as notebook_tqdm\n"
     ]
    }
   ],
   "source": [
    "from gnninterpreter import *"
   ]
  },
  {
   "cell_type": "code",
   "execution_count": 3,
   "id": "2ab76fb3",
   "metadata": {
    "ExecuteTime": {
     "end_time": "2023-11-04T07:41:01.566322Z",
     "start_time": "2023-11-04T07:41:01.560896Z"
    },
    "collapsed": false,
    "pycharm": {
     "name": "#%%\n"
    }
   },
   "outputs": [],
   "source": [
    "import torch"
   ]
  },
  {
   "cell_type": "markdown",
   "id": "395a07f1",
   "metadata": {},
   "source": [
    "# Mutag"
   ]
  },
  {
   "cell_type": "code",
   "execution_count": 4,
   "id": "52747602",
   "metadata": {
    "ExecuteTime": {
     "end_time": "2023-11-04T07:41:01.596590Z",
     "start_time": "2023-11-04T07:41:01.563833Z"
    },
    "collapsed": false,
    "pycharm": {
     "name": "#%%\n"
    }
   },
   "outputs": [],
   "source": [
    "dataset = MUTAGDataset(seed=100)"
   ]
  },
  {
   "cell_type": "code",
   "execution_count": 5,
   "id": "4c1617a4-666d-43de-8f0e-c5301b74375f",
   "metadata": {
    "ExecuteTime": {
     "end_time": "2023-11-04T07:41:03.190997Z",
     "start_time": "2023-11-04T07:41:03.158675Z"
    },
    "collapsed": false,
    "pycharm": {
     "name": "#%%\n"
    }
   },
   "outputs": [],
   "source": [
    "model = GCNClassifier(node_features=len(dataset.NODE_CLS),\n",
    "                      num_classes=len(dataset.GRAPH_CLS),\n",
    "                      hidden_channels=64,\n",
    "                      num_layers=3)"
   ]
  },
  {
   "cell_type": "code",
   "execution_count": 6,
   "id": "3a8139b5-424e-484e-a567-b325f015ccaf",
   "metadata": {
    "ExecuteTime": {
     "end_time": "2023-11-04T07:41:25.394270Z",
     "start_time": "2023-11-04T07:41:25.380650Z"
    }
   },
   "outputs": [
    {
     "data": {
      "text/plain": [
       "<All keys matched successfully>"
      ]
     },
     "execution_count": 6,
     "metadata": {},
     "output_type": "execute_result"
    }
   ],
   "source": [
    "model.load_state_dict(torch.load('ckpts/mutag.pt'))"
   ]
  },
  {
   "cell_type": "code",
   "execution_count": 7,
   "id": "6645ce41-8d77-4945-a474-561843ee8109",
   "metadata": {
    "ExecuteTime": {
     "end_time": "2023-11-04T07:41:39.461255Z",
     "start_time": "2023-11-04T07:41:39.426371Z"
    }
   },
   "outputs": [
    {
     "name": "stderr",
     "output_type": "stream",
     "text": [
      "/home/du0/20CS30037/miniconda3/envs/gnn_inter/lib/python3.11/site-packages/torch_geometric/deprecation.py:22: UserWarning: 'data.DataLoader' is deprecated, use 'loader.DataLoader' instead\n",
      "  warnings.warn(out)\n"
     ]
    },
    {
     "name": "stdout",
     "output_type": "stream",
     "text": [
      "class idx: 0, class: nonmutagen, f1: 0.8799999952316284\n",
      "class idx: 1, class: mutagen, f1: 0.9402390718460083\n"
     ]
    },
    {
     "data": {
      "text/plain": [
       "{'nonmutagen': 0.8799999952316284, 'mutagen': 0.9402390718460083}"
      ]
     },
     "execution_count": 7,
     "metadata": {},
     "output_type": "execute_result"
    }
   ],
   "source": [
    "dataset.evaluate_model(model)"
   ]
  },
  {
   "cell_type": "code",
   "execution_count": 8,
   "id": "feee1f5b-d7e1-440c-bb6a-7fe4daf96956",
   "metadata": {
    "ExecuteTime": {
     "end_time": "2023-11-04T07:42:23.262034Z",
     "start_time": "2023-11-04T07:42:23.238508Z"
    }
   },
   "outputs": [],
   "source": [
    "mean_embeds = dataset.mean_embeddings(model)"
   ]
  },
  {
   "cell_type": "code",
   "execution_count": 9,
   "id": "2c966c81e3166b9e",
   "metadata": {
    "ExecuteTime": {
     "end_time": "2023-11-04T07:43:57.399249Z",
     "start_time": "2023-11-04T07:43:57.389704Z"
    },
    "collapsed": false
   },
   "outputs": [],
   "source": [
    "trainer = {}\n",
    "sampler = {}"
   ]
  },
  {
   "cell_type": "markdown",
   "id": "383c9c7a23eb249f",
   "metadata": {
    "collapsed": false
   },
   "source": [
    "# Mutagen"
   ]
  },
  {
   "cell_type": "code",
   "execution_count": 10,
   "id": "91b8c45bb38b58e",
   "metadata": {
    "ExecuteTime": {
     "end_time": "2023-10-30T09:57:18.790811Z",
     "start_time": "2023-10-30T09:57:18.761402Z"
    },
    "collapsed": false
   },
   "outputs": [],
   "source": [
    "cls_idx = 1\n",
    "trainer[cls_idx] = Trainer(\n",
    "    sampler=(s := GraphSampler(\n",
    "        max_nodes=20,\n",
    "        num_node_cls=len(dataset.NODE_CLS),\n",
    "        num_edge_cls=len(dataset.EDGE_CLS),\n",
    "        temperature=0.15,\n",
    "        learn_node_feat=True,\n",
    "        learn_edge_feat=True,\n",
    "    )),\n",
    "    discriminator=model,\n",
    "    criterion=WeightedCriterion([\n",
    "        dict(key=\"logits\", criterion=ClassScoreCriterion(class_idx=cls_idx, mode='maximize'), weight=1),\n",
    "        dict(key=\"embeds\", criterion=EmbeddingCriterion(target_embedding=mean_embeds[cls_idx]), weight=10),\n",
    "        dict(key=\"logits\", criterion=MeanPenalty(), weight=0),\n",
    "        dict(key=\"omega\", criterion=NormPenalty(order=1), weight=1),\n",
    "        dict(key=\"omega\", criterion=NormPenalty(order=2), weight=1),\n",
    "        dict(key=\"xi\", criterion=NormPenalty(order=1), weight=0),\n",
    "        dict(key=\"xi\", criterion=NormPenalty(order=2), weight=0),\n",
    "        # dict(key=\"eta\", criterion=NormPenalty(order=1), weight=0),\n",
    "        # dict(key=\"eta\", criterion=NormPenalty(order=2), weight=0),\n",
    "        dict(key=\"theta_pairs\", criterion=KLDivergencePenalty(binary=True), weight=0),\n",
    "    ]),\n",
    "    optimizer=(o := torch.optim.SGD(s.parameters(), lr=1)),\n",
    "    scheduler=torch.optim.lr_scheduler.ExponentialLR(o, gamma=1),\n",
    "    dataset=dataset,\n",
    "    budget_penalty=BudgetPenalty(budget=30, order=1, beta=1),\n",
    "    target_probs={cls_idx: (0.9, 1)},\n",
    "    k_samples=16\n",
    ")"
   ]
  },
  {
   "cell_type": "code",
   "execution_count": 11,
   "id": "4c0bd9796d611c52",
   "metadata": {
    "ExecuteTime": {
     "end_time": "2023-10-30T09:57:20.485474Z",
     "start_time": "2023-10-30T09:57:20.053335Z"
    },
    "collapsed": false
   },
   "outputs": [
    {
     "name": "stderr",
     "output_type": "stream",
     "text": [
      "  0%|          | 0/2000 [00:00<?, ?it/s]"
     ]
    },
    {
     "name": "stdout",
     "output_type": "stream",
     "text": [
      "\n",
      "Prediction of the sample:  <generator object Trainer.train.<locals>.<genexpr> at 0x7fca10698f40>\n"
     ]
    },
    {
     "name": "stderr",
     "output_type": "stream",
     "text": [
      "  0%|          | 1/2000 [00:02<1:16:39,  2.30s/it, size=90.6, bpw=1.1, nonmutagen=-2.31, mutagen=2.29]"
     ]
    },
    {
     "name": "stdout",
     "output_type": "stream",
     "text": [
      "iteration=0, loss=363.96, size=90.60517883300781, scores={'nonmutagen': -2.308521032333374, 'mutagen': 2.2900924682617188}\n"
     ]
    },
    {
     "name": "stderr",
     "output_type": "stream",
     "text": [
      "  0%|          | 2/2000 [00:02<39:55,  1.20s/it, size=80.6, bpw=1.46, nonmutagen=-143, mutagen=142]   "
     ]
    },
    {
     "name": "stdout",
     "output_type": "stream",
     "text": [
      "\n",
      "Prediction of the sample:  <generator object Trainer.train.<locals>.<genexpr> at 0x7fc91f564c70>\n",
      "iteration=1, loss=243.77, size=86.2168960571289, scores={'nonmutagen': -34.138832092285156, 'mutagen': 34.04087829589844}\n",
      "\n",
      "Prediction of the sample:  <generator object Trainer.train.<locals>.<genexpr> at 0x7fca10698f40>\n",
      "iteration=2, loss=161.19, size=83.36599731445312, scores={'nonmutagen': -47.278472900390625, 'mutagen': 47.14339828491211}\n",
      "\n",
      "Prediction of the sample:  <generator object Trainer.train.<locals>.<genexpr> at 0x7fc91f564c70>\n"
     ]
    },
    {
     "name": "stderr",
     "output_type": "stream",
     "text": [
      "  0%|          | 4/2000 [00:02<16:36,  2.00it/s, size=83.2, bpw=1.61, nonmutagen=-175, mutagen=175]"
     ]
    },
    {
     "name": "stdout",
     "output_type": "stream",
     "text": [
      "iteration=3, loss=85.06, size=80.55712127685547, scores={'nonmutagen': -142.88119506835938, 'mutagen': 142.47604370117188}\n",
      "\n",
      "Prediction of the sample:  <generator object Trainer.train.<locals>.<genexpr> at 0x7fca10698f40>\n",
      "iteration=4, loss=70.06, size=83.22259521484375, scores={'nonmutagen': -175.13563537597656, 'mutagen': 174.63934326171875}\n",
      "\n",
      "Prediction of the sample:  <generator object Trainer.train.<locals>.<genexpr> at 0x7fc91f564c70>\n"
     ]
    },
    {
     "name": "stderr",
     "output_type": "stream",
     "text": [
      "  0%|          | 6/2000 [00:03<12:09,  2.73it/s, size=81, bpw=1.77, nonmutagen=-161, mutagen=160]  "
     ]
    },
    {
     "name": "stdout",
     "output_type": "stream",
     "text": [
      "iteration=5, loss=75.08, size=80.99732208251953, scores={'nonmutagen': -160.93251037597656, 'mutagen': 160.4763641357422}\n",
      "\n",
      "Prediction of the sample:  <generator object Trainer.train.<locals>.<genexpr> at 0x7fca10698f40>\n"
     ]
    },
    {
     "name": "stderr",
     "output_type": "stream",
     "text": [
      "  0%|          | 7/2000 [00:04<21:59,  1.51it/s, size=78.1, bpw=1.95, nonmutagen=-149, mutagen=149]"
     ]
    },
    {
     "name": "stdout",
     "output_type": "stream",
     "text": [
      "iteration=6, loss=75.49, size=78.11817932128906, scores={'nonmutagen': -149.141357421875, 'mutagen': 148.71852111816406}\n"
     ]
    },
    {
     "name": "stderr",
     "output_type": "stream",
     "text": [
      "  0%|          | 7/2000 [00:06<21:59,  1.51it/s, size=75.2, bpw=2.14, nonmutagen=-171, mutagen=171]"
     ]
    },
    {
     "name": "stdout",
     "output_type": "stream",
     "text": [
      "\n",
      "Prediction of the sample:  <generator object Trainer.train.<locals>.<genexpr> at 0x7fc91f564c70>\n"
     ]
    },
    {
     "name": "stderr",
     "output_type": "stream",
     "text": [
      "  0%|          | 8/2000 [00:06<28:58,  1.15it/s, size=75.2, bpw=2.14, nonmutagen=-171, mutagen=171]"
     ]
    },
    {
     "name": "stdout",
     "output_type": "stream",
     "text": [
      "iteration=7, loss=44.52, size=75.2033920288086, scores={'nonmutagen': -171.35691833496094, 'mutagen': 170.87130737304688}\n",
      "\n",
      "Prediction of the sample:  <generator object Trainer.train.<locals>.<genexpr> at 0x7fca10698f40>\n"
     ]
    },
    {
     "name": "stderr",
     "output_type": "stream",
     "text": [
      "  0%|          | 9/2000 [00:07<32:51,  1.01it/s, size=75.9, bpw=2.36, nonmutagen=-175, mutagen=174]"
     ]
    },
    {
     "name": "stdout",
     "output_type": "stream",
     "text": [
      "iteration=8, loss=48.54, size=75.93437957763672, scores={'nonmutagen': -174.8448944091797, 'mutagen': 174.34942626953125}\n",
      "\n",
      "Prediction of the sample:  <generator object Trainer.train.<locals>.<genexpr> at 0x7fc91f564c70>\n"
     ]
    },
    {
     "name": "stderr",
     "output_type": "stream",
     "text": [
      "  1%|          | 11/2000 [00:09<28:56,  1.15it/s, size=72.7, bpw=2.85, nonmutagen=-188, mutagen=187]"
     ]
    },
    {
     "name": "stdout",
     "output_type": "stream",
     "text": [
      "iteration=9, loss=73.18, size=72.41999816894531, scores={'nonmutagen': -179.57705688476562, 'mutagen': 179.06822204589844}\n",
      "\n",
      "Prediction of the sample:  <generator object Trainer.train.<locals>.<genexpr> at 0x7fca10698f40>\n",
      "iteration=10, loss=78.90, size=72.74222564697266, scores={'nonmutagen': -187.85385131835938, 'mutagen': 187.32164001464844}\n"
     ]
    },
    {
     "name": "stderr",
     "output_type": "stream",
     "text": [
      "  1%|          | 13/2000 [00:09<17:06,  1.94it/s, size=67, bpw=3.45, nonmutagen=-215, mutagen=214]  "
     ]
    },
    {
     "name": "stdout",
     "output_type": "stream",
     "text": [
      "\n",
      "Prediction of the sample:  <generator object Trainer.train.<locals>.<genexpr> at 0x7fc91f564c70>\n",
      "iteration=11, loss=83.01, size=71.50960540771484, scores={'nonmutagen': -178.1992645263672, 'mutagen': 177.6943359375}\n",
      "\n",
      "Prediction of the sample:  <generator object Trainer.train.<locals>.<genexpr> at 0x7fca10698f40>\n",
      "iteration=12, loss=97.24, size=66.96233367919922, scores={'nonmutagen': -215.1009979248047, 'mutagen': 214.49180603027344}\n",
      "\n",
      "Prediction of the sample:  <generator object Trainer.train.<locals>.<genexpr> at 0x7fc91f564c70>\n"
     ]
    },
    {
     "name": "stderr",
     "output_type": "stream",
     "text": [
      "  1%|          | 16/2000 [00:09<09:49,  3.37it/s, size=65.5, bpw=4.59, nonmutagen=-221, mutagen=220]"
     ]
    },
    {
     "name": "stdout",
     "output_type": "stream",
     "text": [
      "iteration=13, loss=94.82, size=69.69660186767578, scores={'nonmutagen': -196.96392822265625, 'mutagen': 196.40599060058594}\n",
      "\n",
      "Prediction of the sample:  <generator object Trainer.train.<locals>.<genexpr> at 0x7fca10698f40>\n",
      "iteration=14, loss=118.63, size=68.13211822509766, scores={'nonmutagen': -186.58201599121094, 'mutagen': 186.05340576171875}\n",
      "\n",
      "Prediction of the sample:  <generator object Trainer.train.<locals>.<genexpr> at 0x7fc91f564c70>\n",
      "iteration=15, loss=127.88, size=65.50025939941406, scores={'nonmutagen': -220.9627227783203, 'mutagen': 220.33697509765625}\n"
     ]
    },
    {
     "name": "stderr",
     "output_type": "stream",
     "text": [
      "  1%|          | 18/2000 [00:10<07:09,  4.61it/s, size=53.7, bpw=5.56, nonmutagen=-210, mutagen=209]"
     ]
    },
    {
     "name": "stdout",
     "output_type": "stream",
     "text": [
      "\n",
      "Prediction of the sample:  <generator object Trainer.train.<locals>.<genexpr> at 0x7fca10698f40>\n",
      "iteration=16, loss=160.86, size=63.39933776855469, scores={'nonmutagen': -210.30743408203125, 'mutagen': 209.7117919921875}\n",
      "\n",
      "Prediction of the sample:  <generator object Trainer.train.<locals>.<genexpr> at 0x7fc91f564c70>\n",
      "iteration=17, loss=147.75, size=53.71677017211914, scores={'nonmutagen': -209.51773071289062, 'mutagen': 208.92431640625}\n",
      "\n",
      "Prediction of the sample:  <generator object Trainer.train.<locals>.<genexpr> at 0x7fca10698f40>\n"
     ]
    },
    {
     "name": "stderr",
     "output_type": "stream",
     "text": [
      "  1%|          | 20/2000 [00:10<05:49,  5.67it/s, size=37.6, bpw=7.4, nonmutagen=-219, mutagen=218] "
     ]
    },
    {
     "name": "stdout",
     "output_type": "stream",
     "text": [
      "iteration=18, loss=159.10, size=50.84556198120117, scores={'nonmutagen': -173.39796447753906, 'mutagen': 172.90658569335938}\n",
      "\n",
      "Prediction of the sample:  <generator object Trainer.train.<locals>.<genexpr> at 0x7fc91f564c70>\n",
      "iteration=19, loss=192.88, size=46.68825912475586, scores={'nonmutagen': -185.7384796142578, 'mutagen': 185.21224975585938}\n",
      "\n",
      "Prediction of the sample:  <generator object Trainer.train.<locals>.<genexpr> at 0x7fca10698f40>\n"
     ]
    },
    {
     "name": "stderr",
     "output_type": "stream",
     "text": [
      "  1%|          | 22/2000 [00:10<04:52,  6.76it/s, size=30.4, bpw=8.95, nonmutagen=-148, mutagen=148]"
     ]
    },
    {
     "name": "stdout",
     "output_type": "stream",
     "text": [
      "iteration=20, loss=188.31, size=37.559661865234375, scores={'nonmutagen': -218.6940460205078, 'mutagen': 218.07470703125}\n",
      "\n",
      "Prediction of the sample:  <generator object Trainer.train.<locals>.<genexpr> at 0x7fc91f564c70>\n",
      "iteration=21, loss=197.87, size=35.463558197021484, scores={'nonmutagen': -78.04823303222656, 'mutagen': 77.82622528076172}\n",
      "\n",
      "Prediction of the sample:  <generator object Trainer.train.<locals>.<genexpr> at 0x7fca10698f40>\n",
      "iteration=22, loss=195.54, size=30.407508850097656, scores={'nonmutagen': -148.0602264404297, 'mutagen': 147.64044189453125}\n"
     ]
    },
    {
     "name": "stderr",
     "output_type": "stream",
     "text": [
      "  1%|▏         | 25/2000 [00:10<14:07,  2.33it/s, size=25.5, bpw=10.8, nonmutagen=-141, mutagen=140]"
     ]
    },
    {
     "name": "stdout",
     "output_type": "stream",
     "text": [
      "\n",
      "Prediction of the sample:  <generator object Trainer.train.<locals>.<genexpr> at 0x7fc91f564c70>\n",
      "iteration=23, loss=199.09, size=41.22718048095703, scores={'nonmutagen': -78.04822540283203, 'mutagen': 77.82621765136719}\n",
      "\n",
      "Prediction of the sample:  <generator object Trainer.train.<locals>.<genexpr> at 0x7fca10698f40>\n",
      "iteration=24, loss=217.57, size=25.530012130737305, scores={'nonmutagen': -140.50730895996094, 'mutagen': 140.10885620117188}\n",
      "\n",
      "Prediction of the sample:  <generator object Trainer.train.<locals>.<genexpr> at 0x7fc91f564c70>\n",
      "Expected number of edges of sample: 25.530012130737305; Budget: 30\n",
      "Current explanation has high prediction probability and low expected maximum number of edges. Hence, it is a good explanation.\n",
      "Breaking from train loop!\n",
      "\n"
     ]
    },
    {
     "name": "stderr",
     "output_type": "stream",
     "text": [
      "\n"
     ]
    },
    {
     "data": {
      "text/plain": [
       "True"
      ]
     },
     "execution_count": 11,
     "metadata": {},
     "output_type": "execute_result"
    }
   ],
   "source": [
    "trainer[1].train(2000)"
   ]
  },
  {
   "cell_type": "code",
   "execution_count": 12,
   "id": "7b268b4019492234",
   "metadata": {
    "ExecuteTime": {
     "end_time": "2023-10-30T09:57:21.623638Z",
     "start_time": "2023-10-30T09:57:21.554347Z"
    },
    "collapsed": false
   },
   "outputs": [
    {
     "name": "stdout",
     "output_type": "stream",
     "text": [
      "n=4 m=2\n",
      "logits=[-134.897216796875, 134.51461791992188]\n",
      "probs=[0.0, 1.0]\n",
      "Graph Viz info: \n",
      "No of nodes:  4\n",
      "Nodes:  [(3, {'label': 'I', 'color': 'cyan'}), (8, {'label': 'I', 'color': 'cyan'}), (16, {'label': 'I', 'color': 'cyan'}), (18, {'label': 'I', 'color': 'cyan'})]\n",
      "No of edges:  2\n",
      "Edges:  [(3, 8, {'label': 'double', 'color': 'red', 'width': 4}), (16, 18, {'label': 'triple', 'color': 'blue', 'width': 6})]\n"
     ]
    },
    {
     "data": {
      "image/png": "[encoded data removed]",
      "text/plain": [
       "<Figure size 900x600 with 1 Axes>"
      ]
     },
     "metadata": {},
     "output_type": "display_data"
    }
   ],
   "source": [
    "G = trainer[1].evaluate(threshold=0.5, show=True)"
   ]
  },
  {
   "cell_type": "code",
   "execution_count": 13,
   "id": "84c07b57",
   "metadata": {},
   "outputs": [
    {
     "name": "stdout",
     "output_type": "stream",
     "text": [
      "<class 'networkx.classes.graph.Graph'>\n",
      "{3: {8: {'label': 2}}, 8: {3: {'label': 2}}, 16: {18: {'label': 3}}, 18: {16: {'label': 3}}}\n",
      "[3, 8, 16, 18]\n",
      "[(3, 8), (16, 18)]\n",
      "Nodes: \n",
      "{'label': 4}\n",
      "{'label': 4}\n",
      "{'label': 4}\n",
      "{'label': 4}\n",
      "Edges: \n",
      "{'label': 2}\n",
      "{'label': 3}\n"
     ]
    }
   ],
   "source": [
    "print(type(G))\n",
    "print(G.adj)\n",
    "print(G.nodes)\n",
    "print(G.edges)\n",
    "\n",
    "print('Nodes: ')\n",
    "for v in list(G.nodes):\n",
    "    print(G.nodes[v])\n",
    "\n",
    "print('Edges: ')\n",
    "for e in G.edges:\n",
    "    print(G.edges[e])"
   ]
  },
  {
   "cell_type": "markdown",
   "id": "a64c4439",
   "metadata": {},
   "source": []
  },
  {
   "cell_type": "markdown",
   "id": "4f4d3ddd-9bb6-456c-9a68-5a3edd019e6e",
   "metadata": {},
   "source": [
    "# Non-Mutagen"
   ]
  },
  {
   "cell_type": "code",
   "execution_count": 14,
   "id": "c1750f1b40d1d86b",
   "metadata": {
    "ExecuteTime": {
     "end_time": "2023-10-30T09:58:02.779473Z",
     "start_time": "2023-10-30T09:58:02.752964Z"
    },
    "collapsed": false
   },
   "outputs": [],
   "source": [
    "cls_idx = 0\n",
    "trainer[cls_idx] = Trainer(\n",
    "    sampler=(s := GraphSampler(\n",
    "        max_nodes=20,\n",
    "        num_node_cls=len(dataset.NODE_CLS),\n",
    "        num_edge_cls=len(dataset.EDGE_CLS),\n",
    "        temperature=0.15,\n",
    "        learn_node_feat=True,\n",
    "        learn_edge_feat=True,\n",
    "    )),\n",
    "    discriminator=model,\n",
    "    criterion=WeightedCriterion([\n",
    "        dict(key=\"logits\", criterion=ClassScoreCriterion(class_idx=cls_idx, mode='maximize'), weight=1),\n",
    "        dict(key=\"embeds\", criterion=EmbeddingCriterion(target_embedding=mean_embeds[cls_idx]), weight=10),\n",
    "        dict(key=\"logits\", criterion=MeanPenalty(), weight=0),\n",
    "        dict(key=\"omega\", criterion=NormPenalty(order=1), weight=1),\n",
    "        dict(key=\"omega\", criterion=NormPenalty(order=2), weight=1),\n",
    "        dict(key=\"xi\", criterion=NormPenalty(order=1), weight=0),\n",
    "        dict(key=\"xi\", criterion=NormPenalty(order=2), weight=0),\n",
    "        # dict(key=\"eta\", criterion=NormPenalty(order=1), weight=0),\n",
    "        # dict(key=\"eta\", criterion=NormPenalty(order=2), weight=0),\n",
    "        dict(key=\"theta_pairs\", criterion=KLDivergencePenalty(binary=True), weight=0),\n",
    "    ]),\n",
    "    optimizer=(o := torch.optim.SGD(s.parameters(), lr=1)),\n",
    "    scheduler=torch.optim.lr_scheduler.ExponentialLR(o, gamma=1),\n",
    "    dataset=dataset,\n",
    "    budget_penalty=BudgetPenalty(budget=30, order=1, beta=1),\n",
    "    target_probs={cls_idx: (0.9, 1)},\n",
    "    k_samples=16\n",
    ")"
   ]
  },
  {
   "cell_type": "code",
   "execution_count": 15,
   "id": "dcc3278f-a073-42e2-b446-0115025e391f",
   "metadata": {
    "ExecuteTime": {
     "end_time": "2023-10-30T09:58:11.075873Z",
     "start_time": "2023-10-30T09:58:06.694010Z"
    }
   },
   "outputs": [
    {
     "name": "stderr",
     "output_type": "stream",
     "text": [
      "  0%|          | 3/2000 [00:01<15:46,  2.11it/s, size=85.2, bpw=0.993, nonmutagen=4.15, mutagen=-5.75]"
     ]
    },
    {
     "name": "stdout",
     "output_type": "stream",
     "text": [
      "iteration=0, loss=347.71, size=88.13179016113281, scores={'nonmutagen': -0.11153221130371094, 'mutagen': 0.10970878601074219}\n",
      "iteration=1, loss=230.44, size=87.06294250488281, scores={'nonmutagen': -8.28653335571289, 'mutagen': 8.261615753173828}\n",
      "\n",
      "Prediction of the sample:  <generator object Trainer.train.<locals>.<genexpr> at 0x7fca10698f40>\n",
      "iteration=2, loss=191.63, size=85.17781066894531, scores={'nonmutagen': 4.150286674499512, 'mutagen': -5.753929138183594}\n"
     ]
    },
    {
     "name": "stderr",
     "output_type": "stream",
     "text": [
      "  0%|          | 5/2000 [00:01<09:05,  3.66it/s, size=86.4, bpw=0.986, nonmutagen=1.96, mutagen=-2.58]"
     ]
    },
    {
     "name": "stdout",
     "output_type": "stream",
     "text": [
      "iteration=3, loss=172.12, size=82.03531646728516, scores={'nonmutagen': 0.4132702350616455, 'mutagen': -0.4136110544204712}\n",
      "iteration=4, loss=174.11, size=89.968017578125, scores={'nonmutagen': 0.5393354892730713, 'mutagen': -0.5393202304840088}\n",
      "\n",
      "Prediction of the sample:  <generator object Trainer.train.<locals>.<genexpr> at 0x7fc91f567d30>\n",
      "iteration=5, loss=173.10, size=86.4340591430664, scores={'nonmutagen': 1.9586362838745117, 'mutagen': -2.577631950378418}\n"
     ]
    },
    {
     "name": "stderr",
     "output_type": "stream",
     "text": [
      "  0%|          | 9/2000 [00:02<05:01,  6.61it/s, size=84.7, bpw=0.845, nonmutagen=-.392, mutagen=0.389]"
     ]
    },
    {
     "name": "stdout",
     "output_type": "stream",
     "text": [
      "iteration=6, loss=168.05, size=84.73472595214844, scores={'nonmutagen': 1.0296971797943115, 'mutagen': -1.028296709060669}\n",
      "iteration=7, loss=159.49, size=88.14672088623047, scores={'nonmutagen': 0.21241271495819092, 'mutagen': -0.21332097053527832}\n",
      "iteration=8, loss=163.17, size=84.73255920410156, scores={'nonmutagen': -0.39203405380249023, 'mutagen': 0.3894181251525879}\n"
     ]
    },
    {
     "name": "stderr",
     "output_type": "stream",
     "text": [
      "  0%|          | 9/2000 [00:02<05:01,  6.61it/s, size=89.9, bpw=0.929, nonmutagen=22.3, mutagen=-25.7] "
     ]
    },
    {
     "name": "stdout",
     "output_type": "stream",
     "text": [
      "\n",
      "Prediction of the sample:  <generator object Trainer.train.<locals>.<genexpr> at 0x7fc91f567d30>\n",
      "iteration=9, loss=159.24, size=89.85029602050781, scores={'nonmutagen': 22.293302536010742, 'mutagen': -25.731313705444336}\n"
     ]
    },
    {
     "name": "stderr",
     "output_type": "stream",
     "text": [
      "  1%|          | 11/2000 [00:03<08:07,  4.08it/s, size=83.2, bpw=1.12, nonmutagen=5.76, mutagen=-7.7] "
     ]
    },
    {
     "name": "stdout",
     "output_type": "stream",
     "text": [
      "\n",
      "Prediction of the sample:  <generator object Trainer.train.<locals>.<genexpr> at 0x7fca10698f40>\n",
      "iteration=10, loss=186.45, size=85.20513916015625, scores={'nonmutagen': 9.67740535736084, 'mutagen': -13.037860870361328}\n",
      "\n",
      "Prediction of the sample:  <generator object Trainer.train.<locals>.<genexpr> at 0x7fc91f567d30>\n",
      "iteration=11, loss=179.51, size=83.22651672363281, scores={'nonmutagen': 5.758757591247559, 'mutagen': -7.704543590545654}\n"
     ]
    },
    {
     "name": "stderr",
     "output_type": "stream",
     "text": [
      "  1%|          | 13/2000 [00:04<13:40,  2.42it/s, size=93.3, bpw=1.07, nonmutagen=-.183, mutagen=0.181]"
     ]
    },
    {
     "name": "stdout",
     "output_type": "stream",
     "text": [
      "iteration=12, loss=195.62, size=93.29138946533203, scores={'nonmutagen': -0.18303251266479492, 'mutagen': 0.18100690841674805}\n",
      "\n",
      "Prediction of the sample:  <generator object Trainer.train.<locals>.<genexpr> at 0x7fc91f567d30>\n"
     ]
    },
    {
     "name": "stderr",
     "output_type": "stream",
     "text": [
      "  1%|          | 14/2000 [00:06<21:09,  1.56it/s, size=82.5, bpw=1.18, nonmutagen=7.42, mutagen=-11.6] "
     ]
    },
    {
     "name": "stdout",
     "output_type": "stream",
     "text": [
      "iteration=13, loss=214.44, size=82.49507904052734, scores={'nonmutagen': 7.423206329345703, 'mutagen': -11.577423095703125}\n",
      "\n",
      "Prediction of the sample:  <generator object Trainer.train.<locals>.<genexpr> at 0x7fca10698f40>\n"
     ]
    },
    {
     "name": "stderr",
     "output_type": "stream",
     "text": [
      "  1%|          | 15/2000 [00:07<28:14,  1.17it/s, size=86.6, bpw=1.29, nonmutagen=6.01, mutagen=-7.85]"
     ]
    },
    {
     "name": "stdout",
     "output_type": "stream",
     "text": [
      "iteration=14, loss=198.84, size=86.61785125732422, scores={'nonmutagen': 6.008406639099121, 'mutagen': -7.852141857147217}\n",
      "\n",
      "Prediction of the sample:  <generator object Trainer.train.<locals>.<genexpr> at 0x7fc91f567d30>\n"
     ]
    },
    {
     "name": "stderr",
     "output_type": "stream",
     "text": [
      "  1%|          | 16/2000 [00:09<33:47,  1.02s/it, size=84.5, bpw=1.42, nonmutagen=13.5, mutagen=-16]  "
     ]
    },
    {
     "name": "stdout",
     "output_type": "stream",
     "text": [
      "iteration=15, loss=224.34, size=84.53443908691406, scores={'nonmutagen': 13.530402183532715, 'mutagen': -16.00234031677246}\n",
      "\n",
      "Prediction of the sample:  <generator object Trainer.train.<locals>.<genexpr> at 0x7fca10698f40>\n"
     ]
    },
    {
     "name": "stderr",
     "output_type": "stream",
     "text": [
      "  1%|          | 17/2000 [00:11<40:28,  1.22s/it, size=83.5, bpw=1.56, nonmutagen=6.43, mutagen=-10.5]"
     ]
    },
    {
     "name": "stdout",
     "output_type": "stream",
     "text": [
      "iteration=16, loss=192.82, size=83.54090881347656, scores={'nonmutagen': 6.431065559387207, 'mutagen': -10.496864318847656}\n",
      "\n",
      "Prediction of the sample:  <generator object Trainer.train.<locals>.<genexpr> at 0x7fc91f567d30>\n"
     ]
    },
    {
     "name": "stderr",
     "output_type": "stream",
     "text": [
      "  1%|          | 18/2000 [00:12<45:05,  1.36s/it, size=79.5, bpw=1.72, nonmutagen=8.09, mutagen=-9.82]"
     ]
    },
    {
     "name": "stdout",
     "output_type": "stream",
     "text": [
      "iteration=17, loss=219.36, size=79.4609146118164, scores={'nonmutagen': 8.088109970092773, 'mutagen': -9.821914672851562}\n",
      "\n",
      "Prediction of the sample:  <generator object Trainer.train.<locals>.<genexpr> at 0x7fca10698f40>\n"
     ]
    },
    {
     "name": "stderr",
     "output_type": "stream",
     "text": [
      "  1%|          | 19/2000 [00:14<46:59,  1.42s/it, size=80.1, bpw=1.89, nonmutagen=2.7, mutagen=-2.95] "
     ]
    },
    {
     "name": "stdout",
     "output_type": "stream",
     "text": [
      "iteration=18, loss=225.92, size=80.09159851074219, scores={'nonmutagen': 2.6985321044921875, 'mutagen': -2.946887254714966}\n",
      "\n",
      "Prediction of the sample:  <generator object Trainer.train.<locals>.<genexpr> at 0x7fc91f567d30>\n"
     ]
    },
    {
     "name": "stderr",
     "output_type": "stream",
     "text": [
      "  1%|          | 20/2000 [00:15<45:53,  1.39s/it, size=76.5, bpw=2.08, nonmutagen=10, mutagen=-11.7] "
     ]
    },
    {
     "name": "stdout",
     "output_type": "stream",
     "text": [
      "iteration=19, loss=227.04, size=76.542236328125, scores={'nonmutagen': 10.044233322143555, 'mutagen': -11.696767807006836}\n",
      "\n",
      "Prediction of the sample:  <generator object Trainer.train.<locals>.<genexpr> at 0x7fca10698f40>\n"
     ]
    },
    {
     "name": "stderr",
     "output_type": "stream",
     "text": [
      "  1%|          | 21/2000 [00:17<48:48,  1.48s/it, size=75.2, bpw=2.29, nonmutagen=2.36, mutagen=-2.41]"
     ]
    },
    {
     "name": "stdout",
     "output_type": "stream",
     "text": [
      "iteration=20, loss=264.47, size=75.23487854003906, scores={'nonmutagen': 2.364971399307251, 'mutagen': -2.4117331504821777}\n",
      "\n",
      "Prediction of the sample:  <generator object Trainer.train.<locals>.<genexpr> at 0x7fc91f567d30>\n"
     ]
    },
    {
     "name": "stderr",
     "output_type": "stream",
     "text": [
      "  1%|          | 22/2000 [00:19<48:39,  1.48s/it, size=74.5, bpw=2.52, nonmutagen=7.22, mutagen=-8.55]"
     ]
    },
    {
     "name": "stdout",
     "output_type": "stream",
     "text": [
      "iteration=21, loss=264.72, size=74.52073669433594, scores={'nonmutagen': 7.223843574523926, 'mutagen': -8.551494598388672}\n",
      "\n",
      "Prediction of the sample:  <generator object Trainer.train.<locals>.<genexpr> at 0x7fca10698f40>\n"
     ]
    },
    {
     "name": "stderr",
     "output_type": "stream",
     "text": [
      "  1%|          | 23/2000 [00:20<49:45,  1.51s/it, size=76.6, bpw=2.77, nonmutagen=15.3, mutagen=-16.9]"
     ]
    },
    {
     "name": "stdout",
     "output_type": "stream",
     "text": [
      "iteration=22, loss=276.14, size=76.6222152709961, scores={'nonmutagen': 15.26323127746582, 'mutagen': -16.873306274414062}\n"
     ]
    },
    {
     "name": "stderr",
     "output_type": "stream",
     "text": [
      "  1%|          | 24/2000 [00:22<51:06,  1.55s/it, size=75.5, bpw=2.63, nonmutagen=0.686, mutagen=-.687]"
     ]
    },
    {
     "name": "stdout",
     "output_type": "stream",
     "text": [
      "iteration=23, loss=277.51, size=75.49918365478516, scores={'nonmutagen': 0.6858832836151123, 'mutagen': -0.6872203350067139}\n",
      "\n",
      "Prediction of the sample:  <generator object Trainer.train.<locals>.<genexpr> at 0x7fca10698f40>\n"
     ]
    },
    {
     "name": "stderr",
     "output_type": "stream",
     "text": [
      "  1%|▏         | 25/2000 [00:23<52:24,  1.59s/it, size=74.4, bpw=2.9, nonmutagen=2.18, mutagen=-2.47]  "
     ]
    },
    {
     "name": "stdout",
     "output_type": "stream",
     "text": [
      "iteration=24, loss=269.72, size=74.43510437011719, scores={'nonmutagen': 2.1766695976257324, 'mutagen': -2.4736380577087402}\n",
      "\n",
      "Prediction of the sample:  <generator object Trainer.train.<locals>.<genexpr> at 0x7fc91f567d30>\n"
     ]
    },
    {
     "name": "stderr",
     "output_type": "stream",
     "text": [
      "  1%|▏         | 26/2000 [00:25<51:17,  1.56s/it, size=70.8, bpw=3.19, nonmutagen=2.42, mutagen=-3.57]"
     ]
    },
    {
     "name": "stdout",
     "output_type": "stream",
     "text": [
      "iteration=25, loss=286.20, size=70.76129150390625, scores={'nonmutagen': 2.419888973236084, 'mutagen': -3.572263240814209}\n"
     ]
    },
    {
     "name": "stderr",
     "output_type": "stream",
     "text": [
      "  1%|▏         | 27/2000 [00:26<48:45,  1.48s/it, size=72.9, bpw=3.03, nonmutagen=-1.53, mutagen=1.52]"
     ]
    },
    {
     "name": "stdout",
     "output_type": "stream",
     "text": [
      "iteration=26, loss=288.79, size=72.90581512451172, scores={'nonmutagen': -1.5250086784362793, 'mutagen': 1.5191919803619385}\n"
     ]
    },
    {
     "name": "stderr",
     "output_type": "stream",
     "text": [
      "  1%|▏         | 28/2000 [00:28<49:00,  1.49s/it, size=72.5, bpw=2.87, nonmutagen=-3.12, mutagen=3.11]"
     ]
    },
    {
     "name": "stdout",
     "output_type": "stream",
     "text": [
      "iteration=27, loss=258.77, size=72.52670288085938, scores={'nonmutagen': -3.1206886768341064, 'mutagen': 3.1103639602661133}\n",
      "\n",
      "Prediction of the sample:  <generator object Trainer.train.<locals>.<genexpr> at 0x7fca10698f40>\n"
     ]
    },
    {
     "name": "stderr",
     "output_type": "stream",
     "text": [
      "  1%|▏         | 29/2000 [00:29<49:35,  1.51s/it, size=75.1, bpw=3.16, nonmutagen=2.02, mutagen=-2.02]"
     ]
    },
    {
     "name": "stdout",
     "output_type": "stream",
     "text": [
      "iteration=28, loss=251.40, size=75.07456970214844, scores={'nonmutagen': 2.023547410964966, 'mutagen': -2.019339084625244}\n",
      "\n",
      "Prediction of the sample:  <generator object Trainer.train.<locals>.<genexpr> at 0x7fc91f567d30>\n"
     ]
    },
    {
     "name": "stderr",
     "output_type": "stream",
     "text": [
      "  2%|▏         | 30/2000 [00:31<50:18,  1.53s/it, size=69, bpw=3.48, nonmutagen=14.7, mutagen=-16.7]  "
     ]
    },
    {
     "name": "stdout",
     "output_type": "stream",
     "text": [
      "iteration=29, loss=302.34, size=69.02936553955078, scores={'nonmutagen': 14.741676330566406, 'mutagen': -16.662561416625977}\n",
      "\n",
      "Prediction of the sample:  <generator object Trainer.train.<locals>.<genexpr> at 0x7fca10698f40>\n"
     ]
    },
    {
     "name": "stderr",
     "output_type": "stream",
     "text": [
      "  2%|▏         | 31/2000 [00:33<53:46,  1.64s/it, size=68.8, bpw=3.83, nonmutagen=2.01, mutagen=-2.01]"
     ]
    },
    {
     "name": "stdout",
     "output_type": "stream",
     "text": [
      "iteration=30, loss=285.81, size=68.84420776367188, scores={'nonmutagen': 2.0089218616485596, 'mutagen': -2.0057826042175293}\n",
      "\n",
      "Prediction of the sample:  <generator object Trainer.train.<locals>.<genexpr> at 0x7fc91f567d30>\n"
     ]
    },
    {
     "name": "stderr",
     "output_type": "stream",
     "text": [
      "  2%|▏         | 32/2000 [00:35<54:57,  1.68s/it, size=66.1, bpw=4.21, nonmutagen=3.69, mutagen=-3.94]"
     ]
    },
    {
     "name": "stdout",
     "output_type": "stream",
     "text": [
      "iteration=31, loss=368.84, size=66.11680603027344, scores={'nonmutagen': 3.6910665035247803, 'mutagen': -3.935795783996582}\n",
      "\n",
      "Prediction of the sample:  <generator object Trainer.train.<locals>.<genexpr> at 0x7fca10698f40>\n"
     ]
    },
    {
     "name": "stderr",
     "output_type": "stream",
     "text": [
      "  2%|▏         | 33/2000 [00:36<50:02,  1.53s/it, size=65.4, bpw=4.63, nonmutagen=52.6, mutagen=-60.7]"
     ]
    },
    {
     "name": "stdout",
     "output_type": "stream",
     "text": [
      "iteration=32, loss=364.75, size=65.3753433227539, scores={'nonmutagen': 52.64518737792969, 'mutagen': -60.718177795410156}\n",
      "\n",
      "Prediction of the sample:  <generator object Trainer.train.<locals>.<genexpr> at 0x7fc91f567d30>\n"
     ]
    },
    {
     "name": "stderr",
     "output_type": "stream",
     "text": [
      "  2%|▏         | 34/2000 [00:37<51:52,  1.58s/it, size=62.4, bpw=5.09, nonmutagen=1.61, mutagen=-1.59]"
     ]
    },
    {
     "name": "stdout",
     "output_type": "stream",
     "text": [
      "iteration=33, loss=365.16, size=62.42958068847656, scores={'nonmutagen': 1.6105146408081055, 'mutagen': -1.5919419527053833}\n",
      "\n",
      "Prediction of the sample:  <generator object Trainer.train.<locals>.<genexpr> at 0x7fca10698f40>\n"
     ]
    },
    {
     "name": "stderr",
     "output_type": "stream",
     "text": [
      "  2%|▏         | 35/2000 [00:39<52:57,  1.62s/it, size=55.6, bpw=5.6, nonmutagen=13.1, mutagen=-16.8] "
     ]
    },
    {
     "name": "stdout",
     "output_type": "stream",
     "text": [
      "iteration=34, loss=365.95, size=55.59840393066406, scores={'nonmutagen': 13.08344841003418, 'mutagen': -16.811914443969727}\n",
      "\n",
      "Prediction of the sample:  <generator object Trainer.train.<locals>.<genexpr> at 0x7fc91f567d30>\n"
     ]
    },
    {
     "name": "stderr",
     "output_type": "stream",
     "text": [
      "  2%|▏         | 36/2000 [00:41<51:35,  1.58s/it, size=51.4, bpw=6.16, nonmutagen=72.3, mutagen=-80.1]"
     ]
    },
    {
     "name": "stdout",
     "output_type": "stream",
     "text": [
      "iteration=35, loss=355.94, size=51.35481262207031, scores={'nonmutagen': 72.30357360839844, 'mutagen': -80.12410736083984}\n",
      "\n",
      "Prediction of the sample:  <generator object Trainer.train.<locals>.<genexpr> at 0x7fca10698f40>\n"
     ]
    },
    {
     "name": "stderr",
     "output_type": "stream",
     "text": [
      "  2%|▏         | 37/2000 [00:42<52:03,  1.59s/it, size=41, bpw=6.78, nonmutagen=2.34, mutagen=-3.07]  "
     ]
    },
    {
     "name": "stdout",
     "output_type": "stream",
     "text": [
      "iteration=36, loss=376.79, size=40.989532470703125, scores={'nonmutagen': 2.341585874557495, 'mutagen': -3.0665817260742188}\n",
      "\n",
      "Prediction of the sample:  <generator object Trainer.train.<locals>.<genexpr> at 0x7fc91f567d30>\n"
     ]
    },
    {
     "name": "stderr",
     "output_type": "stream",
     "text": [
      "  2%|▏         | 38/2000 [00:44<51:35,  1.58s/it, size=36, bpw=7.46, nonmutagen=82, mutagen=-89.8]  "
     ]
    },
    {
     "name": "stdout",
     "output_type": "stream",
     "text": [
      "iteration=37, loss=345.34, size=35.98994064331055, scores={'nonmutagen': 82.00273895263672, 'mutagen': -89.80708312988281}\n",
      "\n",
      "Prediction of the sample:  <generator object Trainer.train.<locals>.<genexpr> at 0x7fca10698f40>\n"
     ]
    },
    {
     "name": "stderr",
     "output_type": "stream",
     "text": [
      "  2%|▏         | 39/2000 [00:46<53:43,  1.64s/it, size=33.7, bpw=8.2, nonmutagen=34.9, mutagen=-38.4]"
     ]
    },
    {
     "name": "stdout",
     "output_type": "stream",
     "text": [
      "iteration=38, loss=370.47, size=33.71500015258789, scores={'nonmutagen': 34.88994598388672, 'mutagen': -38.39321517944336}\n"
     ]
    },
    {
     "name": "stderr",
     "output_type": "stream",
     "text": [
      "  2%|▏         | 40/2000 [00:47<52:49,  1.62s/it, size=33.2, bpw=7.79, nonmutagen=-.46, mutagen=0.457]"
     ]
    },
    {
     "name": "stdout",
     "output_type": "stream",
     "text": [
      "iteration=39, loss=437.10, size=33.1973991394043, scores={'nonmutagen': -0.45984625816345215, 'mutagen': 0.45703864097595215}\n",
      "\n",
      "Prediction of the sample:  <generator object Trainer.train.<locals>.<genexpr> at 0x7fca10698f40>\n"
     ]
    },
    {
     "name": "stderr",
     "output_type": "stream",
     "text": [
      "  2%|▏         | 41/2000 [00:49<51:48,  1.59s/it, size=28.7, bpw=8.57, nonmutagen=2.02, mutagen=-2.02]"
     ]
    },
    {
     "name": "stdout",
     "output_type": "stream",
     "text": [
      "iteration=40, loss=429.57, size=28.723722457885742, scores={'nonmutagen': 2.023547410964966, 'mutagen': -2.019339084625244}\n"
     ]
    },
    {
     "name": "stderr",
     "output_type": "stream",
     "text": [
      "  2%|▏         | 41/2000 [00:50<40:21,  1.24s/it, size=28.7, bpw=8.57, nonmutagen=2.02, mutagen=-2.02]"
     ]
    },
    {
     "name": "stdout",
     "output_type": "stream",
     "text": [
      "\n",
      "Prediction of the sample:  <generator object Trainer.train.<locals>.<genexpr> at 0x7fc91f567d30>\n",
      "Expected number of edges of sample: 28.723722457885742; Budget: 30\n",
      "Current explanation has high prediction probability and low expected maximum number of edges. Hence, it is a good explanation.\n",
      "Breaking from train loop!\n",
      "\n"
     ]
    },
    {
     "name": "stderr",
     "output_type": "stream",
     "text": [
      "\n"
     ]
    },
    {
     "data": {
      "text/plain": [
       "True"
      ]
     },
     "execution_count": 15,
     "metadata": {},
     "output_type": "execute_result"
    }
   ],
   "source": [
    "trainer[0].train(2000)"
   ]
  },
  {
   "cell_type": "code",
   "execution_count": 16,
   "id": "10896fc3a8e2ea3d",
   "metadata": {
    "ExecuteTime": {
     "end_time": "2023-10-30T09:58:15.932158Z",
     "start_time": "2023-10-30T09:58:15.863971Z"
    },
    "collapsed": false
   },
   "outputs": [
    {
     "name": "stdout",
     "output_type": "stream",
     "text": [
      "n=4 m=2\n",
      "logits=[1.3150334358215332, -1.1468019485473633]\n",
      "probs=[0.9214226603507996, 0.07857734709978104]\n",
      "Graph Viz info: \n",
      "No of nodes:  4\n",
      "Nodes:  [(4, {'label': 'Cl', 'color': 'red'}), (7, {'label': 'C', 'color': 'orange'}), (10, {'label': 'O', 'color': 'green'}), (19, {'label': 'Br', 'color': 'yellowgreen'})]\n",
      "No of edges:  2\n",
      "Edges:  [(4, 7, {'label': 'triple', 'color': 'blue', 'width': 6}), (10, 19, {'label': 'aromatic', 'color': 'black', 'width': 3})]\n"
     ]
    },
    {
     "data": {
      "image/png": "[encoded data removed]",
      "text/plain": [
       "<Figure size 900x600 with 1 Axes>"
      ]
     },
     "metadata": {},
     "output_type": "display_data"
    }
   ],
   "source": [
    "G = trainer[0].evaluate(threshold=0.5, show=True)"
   ]
  },
  {
   "cell_type": "code",
   "execution_count": 17,
   "id": "5f2ee2c4-fcdf-4a7e-be20-6a329b4909a4",
   "metadata": {},
   "outputs": [
    {
     "name": "stdout",
     "output_type": "stream",
     "text": [
      "<class 'networkx.classes.graph.Graph'>\n",
      "{4: {7: {'label': 3}}, 7: {4: {'label': 3}}, 10: {19: {'label': 0}}, 19: {10: {'label': 0}}}\n",
      "[4, 7, 10, 19]\n",
      "[(4, 7), (10, 19)]\n",
      "Nodes: \n",
      "{'label': 5}\n",
      "{'label': 0}\n",
      "{'label': 2}\n",
      "{'label': 6}\n",
      "Edges: \n",
      "{'label': 3}\n",
      "{'label': 0}\n"
     ]
    }
   ],
   "source": [
    "print(type(G))\n",
    "print(G.adj)\n",
    "print(G.nodes)\n",
    "print(G.edges)\n",
    "\n",
    "print('Nodes: ')\n",
    "for v in list(G.nodes):\n",
    "    print(G.nodes[v])\n",
    "    \n",
    "print('Edges: ')\n",
    "for e in G.edges:\n",
    "    print(G.edges[e])\n",
    "    \n"
   ]
  },
  {
   "cell_type": "code",
   "execution_count": null,
   "id": "5fdd6b21",
   "metadata": {},
   "outputs": [],
   "source": []
  }
 ],
 "metadata": {
  "kernelspec": {
   "display_name": "Python 3 (ipykernel)",
   "language": "python",
   "name": "python3"
  },
  "language_info": {
   "codemirror_mode": {
    "name": "ipython",
    "version": 3
   },
   "file_extension": ".py",
   "mimetype": "text/x-python",
   "name": "python",
   "nbconvert_exporter": "python",
   "pygments_lexer": "ipython3",
   "version": "3.1.0"
  },
  "widgets": {
   "application/vnd.jupyter.widget-state+json": {
    "state": {
     "07b43483463e4ae3b9a7b160d8938299": {
      "model_module": "@jupyter-widgets/controls",
      "model_module_version": "2.0.0",
      "model_name": "DescriptionStyleModel",
      "state": {
       "_model_module": "@jupyter-widgets/controls",
       "_model_name": "DescriptionStyleModel",
       "_view_name": "ErrorWidgetView",
       "description_width": "",
       "error": {},
       "msg": "Failed to load model class 'DescriptionStyleModel' from module '@jupyter-widgets/controls'"
      }
     },
     "0b87e5fec1ff41aeb4c9e624a222f89b": {
      "model_module": "@jupyter-widgets/base",
      "model_module_version": "2.0.0",
      "model_name": "LayoutModel",
      "state": {
       "_model_name": "LayoutModel",
       "_view_name": "ErrorWidgetView",
       "align_content": null,
       "align_items": null,
       "align_self": null,
       "border": null,
       "bottom": null,
       "display": null,
       "error": {},
       "flex": null,
       "flex_flow": null,
       "grid_area": null,
       "grid_auto_columns": null,
       "grid_auto_flow": null,
       "grid_auto_rows": null,
       "grid_column": null,
       "grid_gap": null,
       "grid_row": null,
       "grid_template_areas": null,
       "grid_template_columns": null,
       "grid_template_rows": null,
       "height": null,
       "justify_content": null,
       "justify_items": null,
       "left": null,
       "margin": null,
       "max_height": null,
       "max_width": null,
       "min_height": null,
       "min_width": null,
       "msg": "Failed to load model class 'LayoutModel' from module '@jupyter-widgets/base'",
       "object_fit": null,
       "object_position": null,
       "order": null,
       "overflow": null,
       "overflow_x": null,
       "overflow_y": null,
       "padding": null,
       "right": null,
       "top": null,
       "visibility": null,
       "width": null
      }
     },
     "0cf8ded72d3147d681343573a3c5c3ad": {
      "model_module": "@jupyter-widgets/base",
      "model_module_version": "2.0.0",
      "model_name": "LayoutModel",
      "state": {
       "_model_name": "LayoutModel",
       "_view_name": "ErrorWidgetView",
       "align_content": null,
       "align_items": null,
       "align_self": null,
       "border": null,
       "bottom": null,
       "display": null,
       "error": {},
       "flex": null,
       "flex_flow": null,
       "grid_area": null,
       "grid_auto_columns": null,
       "grid_auto_flow": null,
       "grid_auto_rows": null,
       "grid_column": null,
       "grid_gap": null,
       "grid_row": null,
       "grid_template_areas": null,
       "grid_template_columns": null,
       "grid_template_rows": null,
       "height": null,
       "justify_content": null,
       "justify_items": null,
       "left": null,
       "margin": null,
       "max_height": null,
       "max_width": null,
       "min_height": null,
       "min_width": null,
       "msg": "Failed to load model class 'LayoutModel' from module '@jupyter-widgets/base'",
       "object_fit": null,
       "object_position": null,
       "order": null,
       "overflow": null,
       "overflow_x": null,
       "overflow_y": null,
       "padding": null,
       "right": null,
       "top": null,
       "visibility": null,
       "width": null
      }
     },
     "0ef53961cc214c23a5cc520142ed3530": {
      "model_module": "@jupyter-widgets/controls",
      "model_module_version": "2.0.0",
      "model_name": "DescriptionStyleModel",
      "state": {
       "_model_module": "@jupyter-widgets/controls",
       "_model_name": "DescriptionStyleModel",
       "_view_name": "ErrorWidgetView",
       "description_width": "",
       "error": {},
       "msg": "Failed to load model class 'DescriptionStyleModel' from module '@jupyter-widgets/controls'"
      }
     },
     "10730754cf7a43eca9820d10763e9a41": {
      "model_module": "@jupyter-widgets/controls",
      "model_module_version": "2.0.0",
      "model_name": "HTMLModel",
      "state": {
       "_model_module": "@jupyter-widgets/controls",
       "_model_name": "HTMLModel",
       "_view_name": "ErrorWidgetView",
       "description": "",
       "description_tooltip": null,
       "error": {},
       "layout": "IPY_MODEL_1958cff3714b451e95a8fbc5e76541b6",
       "msg": "Failed to load model class 'HTMLModel' from module '@jupyter-widgets/controls'",
       "placeholder": "​",
       "style": "IPY_MODEL_0ef53961cc214c23a5cc520142ed3530",
       "value": " 11531/11531 [00:33&lt;00:00, 255.26it/s]"
      }
     },
     "14391e150296461ca407c9ff78c5ae7e": {
      "model_module": "@jupyter-widgets/controls",
      "model_module_version": "2.0.0",
      "model_name": "DescriptionStyleModel",
      "state": {
       "_model_module": "@jupyter-widgets/controls",
       "_model_name": "DescriptionStyleModel",
       "_view_name": "ErrorWidgetView",
       "description_width": "",
       "error": {},
       "msg": "Failed to load model class 'DescriptionStyleModel' from module '@jupyter-widgets/controls'"
      }
     },
     "1958cff3714b451e95a8fbc5e76541b6": {
      "model_module": "@jupyter-widgets/base",
      "model_module_version": "2.0.0",
      "model_name": "LayoutModel",
      "state": {
       "_model_name": "LayoutModel",
       "_view_name": "ErrorWidgetView",
       "align_content": null,
       "align_items": null,
       "align_self": null,
       "border": null,
       "bottom": null,
       "display": null,
       "error": {},
       "flex": null,
       "flex_flow": null,
       "grid_area": null,
       "grid_auto_columns": null,
       "grid_auto_flow": null,
       "grid_auto_rows": null,
       "grid_column": null,
       "grid_gap": null,
       "grid_row": null,
       "grid_template_areas": null,
       "grid_template_columns": null,
       "grid_template_rows": null,
       "height": null,
       "justify_content": null,
       "justify_items": null,
       "left": null,
       "margin": null,
       "max_height": null,
       "max_width": null,
       "min_height": null,
       "min_width": null,
       "msg": "Failed to load model class 'LayoutModel' from module '@jupyter-widgets/base'",
       "object_fit": null,
       "object_position": null,
       "order": null,
       "overflow": null,
       "overflow_x": null,
       "overflow_y": null,
       "padding": null,
       "right": null,
       "top": null,
       "visibility": null,
       "width": null
      }
     },
     "218cfca13d80402ab877a02fc12211cb": {
      "model_module": "@jupyter-widgets/base",
      "model_module_version": "2.0.0",
      "model_name": "LayoutModel",
      "state": {
       "_model_name": "LayoutModel",
       "_view_name": "ErrorWidgetView",
       "align_content": null,
       "align_items": null,
       "align_self": null,
       "border": null,
       "bottom": null,
       "display": null,
       "error": {},
       "flex": null,
       "flex_flow": null,
       "grid_area": null,
       "grid_auto_columns": null,
       "grid_auto_flow": null,
       "grid_auto_rows": null,
       "grid_column": null,
       "grid_gap": null,
       "grid_row": null,
       "grid_template_areas": null,
       "grid_template_columns": null,
       "grid_template_rows": null,
       "height": null,
       "justify_content": null,
       "justify_items": null,
       "left": null,
       "margin": null,
       "max_height": null,
       "max_width": null,
       "min_height": null,
       "min_width": null,
       "msg": "Failed to load model class 'LayoutModel' from module '@jupyter-widgets/base'",
       "object_fit": null,
       "object_position": null,
       "order": null,
       "overflow": null,
       "overflow_x": null,
       "overflow_y": null,
       "padding": null,
       "right": null,
       "top": null,
       "visibility": null,
       "width": null
      }
     },
     "26ccacccb90843b7ac727e9595ab1596": {
      "model_module": "@jupyter-widgets/controls",
      "model_module_version": "2.0.0",
      "model_name": "HBoxModel",
      "state": {
       "_model_module": "@jupyter-widgets/controls",
       "_model_name": "HBoxModel",
       "_view_name": "ErrorWidgetView",
       "box_style": "",
       "children": [
        "IPY_MODEL_34fa3b9e3ba74ee399312caeceb99f69",
        "IPY_MODEL_54daa2fea4ec45d0a23452074efd359e",
        "IPY_MODEL_10730754cf7a43eca9820d10763e9a41"
       ],
       "error": {},
       "layout": "IPY_MODEL_6d28c2f4d48043aa90f29bb764583bf9",
       "msg": "Failed to load model class 'HBoxModel' from module '@jupyter-widgets/controls'"
      }
     },
     "34fa3b9e3ba74ee399312caeceb99f69": {
      "model_module": "@jupyter-widgets/controls",
      "model_module_version": "2.0.0",
      "model_name": "HTMLModel",
      "state": {
       "_model_module": "@jupyter-widgets/controls",
       "_model_name": "HTMLModel",
       "_view_name": "ErrorWidgetView",
       "description": "",
       "description_tooltip": null,
       "error": {},
       "layout": "IPY_MODEL_e9446ec84ebf43ada6872814f2acb0bb",
       "msg": "Failed to load model class 'HTMLModel' from module '@jupyter-widgets/controls'",
       "placeholder": "​",
       "style": "IPY_MODEL_690ee1b6a3cf43adb5164f200cad4fb4",
       "value": "100%"
      }
     },
     "45e44448b1ea450db792b21878b84f01": {
      "model_module": "@jupyter-widgets/controls",
      "model_module_version": "2.0.0",
      "model_name": "ProgressStyleModel",
      "state": {
       "_model_module": "@jupyter-widgets/controls",
       "_model_name": "ProgressStyleModel",
       "_view_name": "ErrorWidgetView",
       "bar_color": null,
       "description_width": "",
       "error": {},
       "msg": "Failed to load model class 'ProgressStyleModel' from module '@jupyter-widgets/controls'"
      }
     },
     "54daa2fea4ec45d0a23452074efd359e": {
      "model_module": "@jupyter-widgets/controls",
      "model_module_version": "2.0.0",
      "model_name": "FloatProgressModel",
      "state": {
       "_model_module": "@jupyter-widgets/controls",
       "_model_name": "FloatProgressModel",
       "_view_name": "ErrorWidgetView",
       "bar_style": "success",
       "description": "",
       "description_tooltip": null,
       "error": {},
       "layout": "IPY_MODEL_218cfca13d80402ab877a02fc12211cb",
       "max": 11531,
       "min": 0,
       "msg": "Failed to load model class 'FloatProgressModel' from module '@jupyter-widgets/controls'",
       "orientation": "horizontal",
       "style": "IPY_MODEL_9706bfc895af4431a44ab22509435387",
       "value": 11531
      }
     },
     "690ee1b6a3cf43adb5164f200cad4fb4": {
      "model_module": "@jupyter-widgets/controls",
      "model_module_version": "2.0.0",
      "model_name": "DescriptionStyleModel",
      "state": {
       "_model_module": "@jupyter-widgets/controls",
       "_model_name": "DescriptionStyleModel",
       "_view_name": "ErrorWidgetView",
       "description_width": "",
       "error": {},
       "msg": "Failed to load model class 'DescriptionStyleModel' from module '@jupyter-widgets/controls'"
      }
     },
     "6d28c2f4d48043aa90f29bb764583bf9": {
      "model_module": "@jupyter-widgets/base",
      "model_module_version": "2.0.0",
      "model_name": "LayoutModel",
      "state": {
       "_model_name": "LayoutModel",
       "_view_name": "ErrorWidgetView",
       "align_content": null,
       "align_items": null,
       "align_self": null,
       "border": null,
       "bottom": null,
       "display": null,
       "error": {},
       "flex": null,
       "flex_flow": null,
       "grid_area": null,
       "grid_auto_columns": null,
       "grid_auto_flow": null,
       "grid_auto_rows": null,
       "grid_column": null,
       "grid_gap": null,
       "grid_row": null,
       "grid_template_areas": null,
       "grid_template_columns": null,
       "grid_template_rows": null,
       "height": null,
       "justify_content": null,
       "justify_items": null,
       "left": null,
       "margin": null,
       "max_height": null,
       "max_width": null,
       "min_height": null,
       "min_width": null,
       "msg": "Failed to load model class 'LayoutModel' from module '@jupyter-widgets/base'",
       "object_fit": null,
       "object_position": null,
       "order": null,
       "overflow": null,
       "overflow_x": null,
       "overflow_y": null,
       "padding": null,
       "right": null,
       "top": null,
       "visibility": null,
       "width": null
      }
     },
     "6e12fbb8b0f349e09c32c14601a1eddc": {
      "model_module": "@jupyter-widgets/controls",
      "model_module_version": "2.0.0",
      "model_name": "HTMLModel",
      "state": {
       "_model_module": "@jupyter-widgets/controls",
       "_model_name": "HTMLModel",
       "_view_name": "ErrorWidgetView",
       "description": "",
       "description_tooltip": null,
       "error": {},
       "layout": "IPY_MODEL_0cf8ded72d3147d681343573a3c5c3ad",
       "msg": "Failed to load model class 'HTMLModel' from module '@jupyter-widgets/controls'",
       "placeholder": "​",
       "style": "IPY_MODEL_07b43483463e4ae3b9a7b160d8938299",
       "value": "Loading graphs: 100%"
      }
     },
     "7821741103e94b03923bba81dbc4c2a9": {
      "model_module": "@jupyter-widgets/controls",
      "model_module_version": "2.0.0",
      "model_name": "HTMLModel",
      "state": {
       "_model_module": "@jupyter-widgets/controls",
       "_model_name": "HTMLModel",
       "_view_name": "ErrorWidgetView",
       "description": "",
       "description_tooltip": null,
       "error": {},
       "layout": "IPY_MODEL_0b87e5fec1ff41aeb4c9e624a222f89b",
       "msg": "Failed to load model class 'HTMLModel' from module '@jupyter-widgets/controls'",
       "placeholder": "​",
       "style": "IPY_MODEL_14391e150296461ca407c9ff78c5ae7e",
       "value": " 11534/11534 [00:56&lt;00:00, 247.95it/s]"
      }
     },
     "9706bfc895af4431a44ab22509435387": {
      "model_module": "@jupyter-widgets/controls",
      "model_module_version": "2.0.0",
      "model_name": "ProgressStyleModel",
      "state": {
       "_model_module": "@jupyter-widgets/controls",
       "_model_name": "ProgressStyleModel",
       "_view_name": "ErrorWidgetView",
       "bar_color": null,
       "description_width": "",
       "error": {},
       "msg": "Failed to load model class 'ProgressStyleModel' from module '@jupyter-widgets/controls'"
      }
     },
     "9b5d28e41af94931b674dcd1ddf14562": {
      "model_module": "@jupyter-widgets/base",
      "model_module_version": "2.0.0",
      "model_name": "LayoutModel",
      "state": {
       "_model_name": "LayoutModel",
       "_view_name": "ErrorWidgetView",
       "align_content": null,
       "align_items": null,
       "align_self": null,
       "border": null,
       "bottom": null,
       "display": null,
       "error": {},
       "flex": null,
       "flex_flow": null,
       "grid_area": null,
       "grid_auto_columns": null,
       "grid_auto_flow": null,
       "grid_auto_rows": null,
       "grid_column": null,
       "grid_gap": null,
       "grid_row": null,
       "grid_template_areas": null,
       "grid_template_columns": null,
       "grid_template_rows": null,
       "height": null,
       "justify_content": null,
       "justify_items": null,
       "left": null,
       "margin": null,
       "max_height": null,
       "max_width": null,
       "min_height": null,
       "min_width": null,
       "msg": "Failed to load model class 'LayoutModel' from module '@jupyter-widgets/base'",
       "object_fit": null,
       "object_position": null,
       "order": null,
       "overflow": null,
       "overflow_x": null,
       "overflow_y": null,
       "padding": null,
       "right": null,
       "top": null,
       "visibility": null,
       "width": null
      }
     },
     "c5606e09c1de4100be70fc1ef5fb367d": {
      "model_module": "@jupyter-widgets/base",
      "model_module_version": "2.0.0",
      "model_name": "LayoutModel",
      "state": {
       "_model_name": "LayoutModel",
       "_view_name": "ErrorWidgetView",
       "align_content": null,
       "align_items": null,
       "align_self": null,
       "border": null,
       "bottom": null,
       "display": null,
       "error": {},
       "flex": null,
       "flex_flow": null,
       "grid_area": null,
       "grid_auto_columns": null,
       "grid_auto_flow": null,
       "grid_auto_rows": null,
       "grid_column": null,
       "grid_gap": null,
       "grid_row": null,
       "grid_template_areas": null,
       "grid_template_columns": null,
       "grid_template_rows": null,
       "height": null,
       "justify_content": null,
       "justify_items": null,
       "left": null,
       "margin": null,
       "max_height": null,
       "max_width": null,
       "min_height": null,
       "min_width": null,
       "msg": "Failed to load model class 'LayoutModel' from module '@jupyter-widgets/base'",
       "object_fit": null,
       "object_position": null,
       "order": null,
       "overflow": null,
       "overflow_x": null,
       "overflow_y": null,
       "padding": null,
       "right": null,
       "top": null,
       "visibility": null,
       "width": null
      }
     },
     "ce6b2459d7fb430d9b0a8820031189de": {
      "model_module": "@jupyter-widgets/controls",
      "model_module_version": "2.0.0",
      "model_name": "FloatProgressModel",
      "state": {
       "_model_module": "@jupyter-widgets/controls",
       "_model_name": "FloatProgressModel",
       "_view_name": "ErrorWidgetView",
       "bar_style": "success",
       "description": "",
       "description_tooltip": null,
       "error": {},
       "layout": "IPY_MODEL_c5606e09c1de4100be70fc1ef5fb367d",
       "max": 11534,
       "min": 0,
       "msg": "Failed to load model class 'FloatProgressModel' from module '@jupyter-widgets/controls'",
       "orientation": "horizontal",
       "style": "IPY_MODEL_45e44448b1ea450db792b21878b84f01",
       "value": 11534
      }
     },
     "e9446ec84ebf43ada6872814f2acb0bb": {
      "model_module": "@jupyter-widgets/base",
      "model_module_version": "2.0.0",
      "model_name": "LayoutModel",
      "state": {
       "_model_name": "LayoutModel",
       "_view_name": "ErrorWidgetView",
       "align_content": null,
       "align_items": null,
       "align_self": null,
       "border": null,
       "bottom": null,
       "display": null,
       "error": {},
       "flex": null,
       "flex_flow": null,
       "grid_area": null,
       "grid_auto_columns": null,
       "grid_auto_flow": null,
       "grid_auto_rows": null,
       "grid_column": null,
       "grid_gap": null,
       "grid_row": null,
       "grid_template_areas": null,
       "grid_template_columns": null,
       "grid_template_rows": null,
       "height": null,
       "justify_content": null,
       "justify_items": null,
       "left": null,
       "margin": null,
       "max_height": null,
       "max_width": null,
       "min_height": null,
       "min_width": null,
       "msg": "Failed to load model class 'LayoutModel' from module '@jupyter-widgets/base'",
       "object_fit": null,
       "object_position": null,
       "order": null,
       "overflow": null,
       "overflow_x": null,
       "overflow_y": null,
       "padding": null,
       "right": null,
       "top": null,
       "visibility": null,
       "width": null
      }
     },
     "f64c7011415b4ea3a3043c3a81009193": {
      "model_module": "@jupyter-widgets/controls",
      "model_module_version": "2.0.0",
      "model_name": "HBoxModel",
      "state": {
       "_model_module": "@jupyter-widgets/controls",
       "_model_name": "HBoxModel",
       "_view_name": "ErrorWidgetView",
       "box_style": "",
       "children": [
        "IPY_MODEL_6e12fbb8b0f349e09c32c14601a1eddc",
        "IPY_MODEL_ce6b2459d7fb430d9b0a8820031189de",
        "IPY_MODEL_7821741103e94b03923bba81dbc4c2a9"
       ],
       "error": {},
       "layout": "IPY_MODEL_9b5d28e41af94931b674dcd1ddf14562",
       "msg": "Failed to load model class 'HBoxModel' from module '@jupyter-widgets/controls'"
      }
     }
    },
    "version_major": 2,
    "version_minor": 0
   }
  }
 },
 "nbformat": 4,
 "nbformat_minor": 5
}
